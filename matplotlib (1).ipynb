{
 "cells": [
  {
   "cell_type": "code",
   "execution_count": 3,
   "id": "a73e3b46",
   "metadata": {},
   "outputs": [],
   "source": [
    "import pandas as pd\n",
    "import numpy as np\n",
    "df=pd.read_csv(\"Casino_Gaming_Data New.csv\")"
   ]
  },
  {
   "cell_type": "code",
   "execution_count": 8,
   "id": "0c772026",
   "metadata": {},
   "outputs": [
    {
     "data": {
      "text/html": [
       "<div>\n",
       "<style scoped>\n",
       "    .dataframe tbody tr th:only-of-type {\n",
       "        vertical-align: middle;\n",
       "    }\n",
       "\n",
       "    .dataframe tbody tr th {\n",
       "        vertical-align: top;\n",
       "    }\n",
       "\n",
       "    .dataframe thead th {\n",
       "        text-align: right;\n",
       "    }\n",
       "</style>\n",
       "<table border=\"1\" class=\"dataframe\">\n",
       "  <thead>\n",
       "    <tr style=\"text-align: right;\">\n",
       "      <th></th>\n",
       "      <th>Fiscal Year</th>\n",
       "      <th>Month Ending</th>\n",
       "      <th>Licensee</th>\n",
       "      <th>Wagers</th>\n",
       "      <th>Patron Winnings</th>\n",
       "      <th>Cancelled Wagers</th>\n",
       "      <th>Online Casino Gaming Win/(Loss)</th>\n",
       "      <th>Promotional Coupons or Credits Wagered (3)</th>\n",
       "      <th>Promotional Deduction (4)</th>\n",
       "      <th>Total Gross Gaming Revenue</th>\n",
       "      <th>Payment (5)</th>\n",
       "    </tr>\n",
       "  </thead>\n",
       "  <tbody>\n",
       "    <tr>\n",
       "      <th>0</th>\n",
       "      <td>2021/22</td>\n",
       "      <td>06/30/2022 12:00:00 AM</td>\n",
       "      <td>Mohegan Tribe On-Reservation</td>\n",
       "      <td>379023</td>\n",
       "      <td>335505</td>\n",
       "      <td>5</td>\n",
       "      <td>43513</td>\n",
       "      <td>6390</td>\n",
       "      <td>6390</td>\n",
       "      <td>37123</td>\n",
       "      <td>6682</td>\n",
       "    </tr>\n",
       "    <tr>\n",
       "      <th>1</th>\n",
       "      <td>2021/22</td>\n",
       "      <td>06/30/2022 12:00:00 AM</td>\n",
       "      <td>MPTN On-Reservation</td>\n",
       "      <td>671843</td>\n",
       "      <td>685886</td>\n",
       "      <td>3</td>\n",
       "      <td>-14046</td>\n",
       "      <td>29041</td>\n",
       "      <td>0</td>\n",
       "      <td>-14046</td>\n",
       "      <td>0</td>\n",
       "    </tr>\n",
       "    <tr>\n",
       "      <th>2</th>\n",
       "      <td>2021/22</td>\n",
       "      <td>06/30/2022 12:00:00 AM</td>\n",
       "      <td>MPI Master Wagering License CT, LLC</td>\n",
       "      <td>420056291</td>\n",
       "      <td>406814933</td>\n",
       "      <td>164727</td>\n",
       "      <td>13076631</td>\n",
       "      <td>12372142</td>\n",
       "      <td>3269158</td>\n",
       "      <td>9807473</td>\n",
       "      <td>1765345</td>\n",
       "    </tr>\n",
       "    <tr>\n",
       "      <th>3</th>\n",
       "      <td>2021/22</td>\n",
       "      <td>06/30/2022 12:00:00 AM</td>\n",
       "      <td>Mohegan Digital, LLC</td>\n",
       "      <td>254393582</td>\n",
       "      <td>246515856</td>\n",
       "      <td>11645</td>\n",
       "      <td>7866081</td>\n",
       "      <td>1397441</td>\n",
       "      <td>1397441</td>\n",
       "      <td>6468640</td>\n",
       "      <td>1164355</td>\n",
       "    </tr>\n",
       "    <tr>\n",
       "      <th>4</th>\n",
       "      <td>2021/22</td>\n",
       "      <td>05/31/2022 12:00:00 AM</td>\n",
       "      <td>Mohegan Tribe On-Reservation</td>\n",
       "      <td>716607</td>\n",
       "      <td>681306</td>\n",
       "      <td>0</td>\n",
       "      <td>35301</td>\n",
       "      <td>4130</td>\n",
       "      <td>4130</td>\n",
       "      <td>31171</td>\n",
       "      <td>5611</td>\n",
       "    </tr>\n",
       "    <tr>\n",
       "      <th>5</th>\n",
       "      <td>2021/22</td>\n",
       "      <td>05/31/2022 12:00:00 AM</td>\n",
       "      <td>MPTN On-Reservation</td>\n",
       "      <td>710829</td>\n",
       "      <td>684549</td>\n",
       "      <td>10</td>\n",
       "      <td>26270</td>\n",
       "      <td>22614</td>\n",
       "      <td>6568</td>\n",
       "      <td>19703</td>\n",
       "      <td>3546</td>\n",
       "    </tr>\n",
       "    <tr>\n",
       "      <th>6</th>\n",
       "      <td>2021/22</td>\n",
       "      <td>05/31/2022 12:00:00 AM</td>\n",
       "      <td>MPI Master Wagering License CT, LLC</td>\n",
       "      <td>496904669</td>\n",
       "      <td>484267401</td>\n",
       "      <td>146970</td>\n",
       "      <td>12490298</td>\n",
       "      <td>29968316</td>\n",
       "      <td>3122574</td>\n",
       "      <td>9367723</td>\n",
       "      <td>1686190</td>\n",
       "    </tr>\n",
       "    <tr>\n",
       "      <th>7</th>\n",
       "      <td>2021/22</td>\n",
       "      <td>05/31/2022 12:00:00 AM</td>\n",
       "      <td>Mohegan Digital, LLC</td>\n",
       "      <td>275818534</td>\n",
       "      <td>267451923</td>\n",
       "      <td>3887</td>\n",
       "      <td>8362724</td>\n",
       "      <td>1205520</td>\n",
       "      <td>1205520</td>\n",
       "      <td>7157204</td>\n",
       "      <td>1288297</td>\n",
       "    </tr>\n",
       "    <tr>\n",
       "      <th>8</th>\n",
       "      <td>2021/22</td>\n",
       "      <td>04/30/2022 12:00:00 AM</td>\n",
       "      <td>MPTN On-Reservation</td>\n",
       "      <td>1464737</td>\n",
       "      <td>1438677</td>\n",
       "      <td>0</td>\n",
       "      <td>26060</td>\n",
       "      <td>48032</td>\n",
       "      <td>6515</td>\n",
       "      <td>19545</td>\n",
       "      <td>3518</td>\n",
       "    </tr>\n",
       "    <tr>\n",
       "      <th>9</th>\n",
       "      <td>2021/22</td>\n",
       "      <td>04/30/2022 12:00:00 AM</td>\n",
       "      <td>MPI Master Wagering License CT, LLC</td>\n",
       "      <td>475988357</td>\n",
       "      <td>462730802</td>\n",
       "      <td>210022</td>\n",
       "      <td>13047534</td>\n",
       "      <td>17431335</td>\n",
       "      <td>3261883</td>\n",
       "      <td>9785650</td>\n",
       "      <td>1761417</td>\n",
       "    </tr>\n",
       "  </tbody>\n",
       "</table>\n",
       "</div>"
      ],
      "text/plain": [
       "  Fiscal Year            Month Ending                             Licensee  \\\n",
       "0     2021/22  06/30/2022 12:00:00 AM         Mohegan Tribe On-Reservation   \n",
       "1     2021/22  06/30/2022 12:00:00 AM                  MPTN On-Reservation   \n",
       "2     2021/22  06/30/2022 12:00:00 AM  MPI Master Wagering License CT, LLC   \n",
       "3     2021/22  06/30/2022 12:00:00 AM                 Mohegan Digital, LLC   \n",
       "4     2021/22  05/31/2022 12:00:00 AM         Mohegan Tribe On-Reservation   \n",
       "5     2021/22  05/31/2022 12:00:00 AM                  MPTN On-Reservation   \n",
       "6     2021/22  05/31/2022 12:00:00 AM  MPI Master Wagering License CT, LLC   \n",
       "7     2021/22  05/31/2022 12:00:00 AM                 Mohegan Digital, LLC   \n",
       "8     2021/22  04/30/2022 12:00:00 AM                  MPTN On-Reservation   \n",
       "9     2021/22  04/30/2022 12:00:00 AM  MPI Master Wagering License CT, LLC   \n",
       "\n",
       "      Wagers  Patron Winnings  Cancelled Wagers  \\\n",
       "0     379023           335505                 5   \n",
       "1     671843           685886                 3   \n",
       "2  420056291        406814933            164727   \n",
       "3  254393582        246515856             11645   \n",
       "4     716607           681306                 0   \n",
       "5     710829           684549                10   \n",
       "6  496904669        484267401            146970   \n",
       "7  275818534        267451923              3887   \n",
       "8    1464737          1438677                 0   \n",
       "9  475988357        462730802            210022   \n",
       "\n",
       "   Online Casino Gaming Win/(Loss)  \\\n",
       "0                            43513   \n",
       "1                           -14046   \n",
       "2                         13076631   \n",
       "3                          7866081   \n",
       "4                            35301   \n",
       "5                            26270   \n",
       "6                         12490298   \n",
       "7                          8362724   \n",
       "8                            26060   \n",
       "9                         13047534   \n",
       "\n",
       "   Promotional Coupons or Credits Wagered (3)  Promotional Deduction (4)  \\\n",
       "0                                        6390                       6390   \n",
       "1                                       29041                          0   \n",
       "2                                    12372142                    3269158   \n",
       "3                                     1397441                    1397441   \n",
       "4                                        4130                       4130   \n",
       "5                                       22614                       6568   \n",
       "6                                    29968316                    3122574   \n",
       "7                                     1205520                    1205520   \n",
       "8                                       48032                       6515   \n",
       "9                                    17431335                    3261883   \n",
       "\n",
       "   Total Gross Gaming Revenue  Payment (5)  \n",
       "0                       37123         6682  \n",
       "1                      -14046            0  \n",
       "2                     9807473      1765345  \n",
       "3                     6468640      1164355  \n",
       "4                       31171         5611  \n",
       "5                       19703         3546  \n",
       "6                     9367723      1686190  \n",
       "7                     7157204      1288297  \n",
       "8                       19545         3518  \n",
       "9                     9785650      1761417  "
      ]
     },
     "execution_count": 8,
     "metadata": {},
     "output_type": "execute_result"
    }
   ],
   "source": [
    "df.head(10)"
   ]
  },
  {
   "cell_type": "code",
   "execution_count": 9,
   "id": "19273d60",
   "metadata": {},
   "outputs": [
    {
     "data": {
      "text/html": [
       "<div>\n",
       "<style scoped>\n",
       "    .dataframe tbody tr th:only-of-type {\n",
       "        vertical-align: middle;\n",
       "    }\n",
       "\n",
       "    .dataframe tbody tr th {\n",
       "        vertical-align: top;\n",
       "    }\n",
       "\n",
       "    .dataframe thead th {\n",
       "        text-align: right;\n",
       "    }\n",
       "</style>\n",
       "<table border=\"1\" class=\"dataframe\">\n",
       "  <thead>\n",
       "    <tr style=\"text-align: right;\">\n",
       "      <th></th>\n",
       "      <th>Fiscal Year</th>\n",
       "      <th>Month Ending</th>\n",
       "      <th>Licensee</th>\n",
       "      <th>Wagers</th>\n",
       "      <th>Patron Winnings</th>\n",
       "      <th>Cancelled Wagers</th>\n",
       "      <th>Online Casino Gaming Win/(Loss)</th>\n",
       "      <th>Promotional Coupons or Credits Wagered (3)</th>\n",
       "      <th>Promotional Deduction (4)</th>\n",
       "      <th>Total Gross Gaming Revenue</th>\n",
       "      <th>Payment (5)</th>\n",
       "    </tr>\n",
       "  </thead>\n",
       "  <tbody>\n",
       "    <tr>\n",
       "      <th>138</th>\n",
       "      <td>2024/25</td>\n",
       "      <td>08/31/2024 12:00:00 AM</td>\n",
       "      <td>Mohegan Digital, LLC</td>\n",
       "      <td>552906853</td>\n",
       "      <td>532307920</td>\n",
       "      <td>468730</td>\n",
       "      <td>20130203</td>\n",
       "      <td>4098131</td>\n",
       "      <td>3019530</td>\n",
       "      <td>17110672</td>\n",
       "      <td>3079921</td>\n",
       "    </tr>\n",
       "    <tr>\n",
       "      <th>139</th>\n",
       "      <td>2024/25</td>\n",
       "      <td>07/31/2024 12:00:00 AM</td>\n",
       "      <td>Mohegan Tribe On-Reservation</td>\n",
       "      <td>3543119</td>\n",
       "      <td>3410769</td>\n",
       "      <td>132</td>\n",
       "      <td>132219</td>\n",
       "      <td>20758</td>\n",
       "      <td>19833</td>\n",
       "      <td>112386</td>\n",
       "      <td>20229</td>\n",
       "    </tr>\n",
       "    <tr>\n",
       "      <th>140</th>\n",
       "      <td>2024/25</td>\n",
       "      <td>07/31/2024 12:00:00 AM</td>\n",
       "      <td>MPTN On-Reservation</td>\n",
       "      <td>3199509</td>\n",
       "      <td>3072580</td>\n",
       "      <td>265</td>\n",
       "      <td>126663</td>\n",
       "      <td>15071</td>\n",
       "      <td>15071</td>\n",
       "      <td>111592</td>\n",
       "      <td>20087</td>\n",
       "    </tr>\n",
       "    <tr>\n",
       "      <th>141</th>\n",
       "      <td>2024/25</td>\n",
       "      <td>07/31/2024 12:00:00 AM</td>\n",
       "      <td>MPI Master Wagering License CT, LLC</td>\n",
       "      <td>692210181</td>\n",
       "      <td>668971512</td>\n",
       "      <td>697914</td>\n",
       "      <td>22540755</td>\n",
       "      <td>4284383</td>\n",
       "      <td>3381113</td>\n",
       "      <td>19159642</td>\n",
       "      <td>3448735</td>\n",
       "    </tr>\n",
       "    <tr>\n",
       "      <th>142</th>\n",
       "      <td>2024/25</td>\n",
       "      <td>07/31/2024 12:00:00 AM</td>\n",
       "      <td>Mohegan Digital, LLC</td>\n",
       "      <td>535796500</td>\n",
       "      <td>516077716</td>\n",
       "      <td>561709</td>\n",
       "      <td>19157075</td>\n",
       "      <td>4411186</td>\n",
       "      <td>2873561</td>\n",
       "      <td>16283514</td>\n",
       "      <td>2931033</td>\n",
       "    </tr>\n",
       "  </tbody>\n",
       "</table>\n",
       "</div>"
      ],
      "text/plain": [
       "    Fiscal Year            Month Ending                             Licensee  \\\n",
       "138     2024/25  08/31/2024 12:00:00 AM                 Mohegan Digital, LLC   \n",
       "139     2024/25  07/31/2024 12:00:00 AM         Mohegan Tribe On-Reservation   \n",
       "140     2024/25  07/31/2024 12:00:00 AM                  MPTN On-Reservation   \n",
       "141     2024/25  07/31/2024 12:00:00 AM  MPI Master Wagering License CT, LLC   \n",
       "142     2024/25  07/31/2024 12:00:00 AM                 Mohegan Digital, LLC   \n",
       "\n",
       "        Wagers  Patron Winnings  Cancelled Wagers  \\\n",
       "138  552906853        532307920            468730   \n",
       "139    3543119          3410769               132   \n",
       "140    3199509          3072580               265   \n",
       "141  692210181        668971512            697914   \n",
       "142  535796500        516077716            561709   \n",
       "\n",
       "     Online Casino Gaming Win/(Loss)  \\\n",
       "138                         20130203   \n",
       "139                           132219   \n",
       "140                           126663   \n",
       "141                         22540755   \n",
       "142                         19157075   \n",
       "\n",
       "     Promotional Coupons or Credits Wagered (3)  Promotional Deduction (4)  \\\n",
       "138                                     4098131                    3019530   \n",
       "139                                       20758                      19833   \n",
       "140                                       15071                      15071   \n",
       "141                                     4284383                    3381113   \n",
       "142                                     4411186                    2873561   \n",
       "\n",
       "     Total Gross Gaming Revenue  Payment (5)  \n",
       "138                    17110672      3079921  \n",
       "139                      112386        20229  \n",
       "140                      111592        20087  \n",
       "141                    19159642      3448735  \n",
       "142                    16283514      2931033  "
      ]
     },
     "execution_count": 9,
     "metadata": {},
     "output_type": "execute_result"
    }
   ],
   "source": [
    "df.tail()"
   ]
  },
  {
   "cell_type": "code",
   "execution_count": 10,
   "id": "d1ccfeaf",
   "metadata": {},
   "outputs": [
    {
     "name": "stdout",
     "output_type": "stream",
     "text": [
      "<class 'pandas.core.frame.DataFrame'>\n",
      "RangeIndex: 143 entries, 0 to 142\n",
      "Data columns (total 11 columns):\n",
      " #   Column                                      Non-Null Count  Dtype \n",
      "---  ------                                      --------------  ----- \n",
      " 0   Fiscal Year                                 143 non-null    object\n",
      " 1   Month Ending                                143 non-null    object\n",
      " 2   Licensee                                    143 non-null    object\n",
      " 3   Wagers                                      143 non-null    int64 \n",
      " 4   Patron Winnings                             143 non-null    int64 \n",
      " 5   Cancelled Wagers                            143 non-null    int64 \n",
      " 6   Online Casino Gaming Win/(Loss)             143 non-null    int64 \n",
      " 7   Promotional Coupons or Credits Wagered (3)  143 non-null    int64 \n",
      " 8   Promotional Deduction (4)                   143 non-null    int64 \n",
      " 9   Total Gross Gaming Revenue                  143 non-null    int64 \n",
      " 10  Payment (5)                                 143 non-null    int64 \n",
      "dtypes: int64(8), object(3)\n",
      "memory usage: 12.4+ KB\n"
     ]
    }
   ],
   "source": [
    "df.info()"
   ]
  },
  {
   "cell_type": "code",
   "execution_count": 12,
   "id": "e9bbcec6",
   "metadata": {},
   "outputs": [
    {
     "data": {
      "text/plain": [
       "(143, 11)"
      ]
     },
     "execution_count": 12,
     "metadata": {},
     "output_type": "execute_result"
    }
   ],
   "source": [
    "#no of rows and no.of columns\n",
    "df.shape"
   ]
  },
  {
   "cell_type": "code",
   "execution_count": 13,
   "id": "317d4011",
   "metadata": {},
   "outputs": [
    {
     "data": {
      "text/plain": [
       "Index(['Fiscal Year', 'Month Ending', 'Licensee', 'Wagers', 'Patron Winnings',\n",
       "       'Cancelled Wagers', 'Online Casino Gaming Win/(Loss)',\n",
       "       'Promotional Coupons or Credits Wagered (3)',\n",
       "       'Promotional Deduction (4)', 'Total Gross Gaming Revenue',\n",
       "       'Payment (5)'],\n",
       "      dtype='object')"
      ]
     },
     "execution_count": 13,
     "metadata": {},
     "output_type": "execute_result"
    }
   ],
   "source": [
    "df.columns"
   ]
  },
  {
   "cell_type": "code",
   "execution_count": 32,
   "id": "1a54bdb5",
   "metadata": {},
   "outputs": [
    {
     "data": {
      "text/html": [
       "<div>\n",
       "<style scoped>\n",
       "    .dataframe tbody tr th:only-of-type {\n",
       "        vertical-align: middle;\n",
       "    }\n",
       "\n",
       "    .dataframe tbody tr th {\n",
       "        vertical-align: top;\n",
       "    }\n",
       "\n",
       "    .dataframe thead th {\n",
       "        text-align: right;\n",
       "    }\n",
       "</style>\n",
       "<table border=\"1\" class=\"dataframe\">\n",
       "  <thead>\n",
       "    <tr style=\"text-align: right;\">\n",
       "      <th></th>\n",
       "      <th>Month Ending</th>\n",
       "      <th>Licensee</th>\n",
       "    </tr>\n",
       "  </thead>\n",
       "  <tbody>\n",
       "    <tr>\n",
       "      <th>2</th>\n",
       "      <td>06/30/2022 12:00:00 AM</td>\n",
       "      <td>MPI Master Wagering License CT, LLC</td>\n",
       "    </tr>\n",
       "    <tr>\n",
       "      <th>3</th>\n",
       "      <td>06/30/2022 12:00:00 AM</td>\n",
       "      <td>Mohegan Digital, LLC</td>\n",
       "    </tr>\n",
       "    <tr>\n",
       "      <th>4</th>\n",
       "      <td>05/31/2022 12:00:00 AM</td>\n",
       "      <td>Mohegan Tribe On-Reservation</td>\n",
       "    </tr>\n",
       "    <tr>\n",
       "      <th>5</th>\n",
       "      <td>05/31/2022 12:00:00 AM</td>\n",
       "      <td>MPTN On-Reservation</td>\n",
       "    </tr>\n",
       "    <tr>\n",
       "      <th>6</th>\n",
       "      <td>05/31/2022 12:00:00 AM</td>\n",
       "      <td>MPI Master Wagering License CT, LLC</td>\n",
       "    </tr>\n",
       "    <tr>\n",
       "      <th>...</th>\n",
       "      <td>...</td>\n",
       "      <td>...</td>\n",
       "    </tr>\n",
       "    <tr>\n",
       "      <th>138</th>\n",
       "      <td>08/31/2024 12:00:00 AM</td>\n",
       "      <td>Mohegan Digital, LLC</td>\n",
       "    </tr>\n",
       "    <tr>\n",
       "      <th>139</th>\n",
       "      <td>07/31/2024 12:00:00 AM</td>\n",
       "      <td>Mohegan Tribe On-Reservation</td>\n",
       "    </tr>\n",
       "    <tr>\n",
       "      <th>140</th>\n",
       "      <td>07/31/2024 12:00:00 AM</td>\n",
       "      <td>MPTN On-Reservation</td>\n",
       "    </tr>\n",
       "    <tr>\n",
       "      <th>141</th>\n",
       "      <td>07/31/2024 12:00:00 AM</td>\n",
       "      <td>MPI Master Wagering License CT, LLC</td>\n",
       "    </tr>\n",
       "    <tr>\n",
       "      <th>142</th>\n",
       "      <td>07/31/2024 12:00:00 AM</td>\n",
       "      <td>Mohegan Digital, LLC</td>\n",
       "    </tr>\n",
       "  </tbody>\n",
       "</table>\n",
       "<p>141 rows × 2 columns</p>\n",
       "</div>"
      ],
      "text/plain": [
       "               Month Ending                             Licensee\n",
       "2    06/30/2022 12:00:00 AM  MPI Master Wagering License CT, LLC\n",
       "3    06/30/2022 12:00:00 AM                 Mohegan Digital, LLC\n",
       "4    05/31/2022 12:00:00 AM         Mohegan Tribe On-Reservation\n",
       "5    05/31/2022 12:00:00 AM                  MPTN On-Reservation\n",
       "6    05/31/2022 12:00:00 AM  MPI Master Wagering License CT, LLC\n",
       "..                      ...                                  ...\n",
       "138  08/31/2024 12:00:00 AM                 Mohegan Digital, LLC\n",
       "139  07/31/2024 12:00:00 AM         Mohegan Tribe On-Reservation\n",
       "140  07/31/2024 12:00:00 AM                  MPTN On-Reservation\n",
       "141  07/31/2024 12:00:00 AM  MPI Master Wagering License CT, LLC\n",
       "142  07/31/2024 12:00:00 AM                 Mohegan Digital, LLC\n",
       "\n",
       "[141 rows x 2 columns]"
      ]
     },
     "execution_count": 32,
     "metadata": {},
     "output_type": "execute_result"
    }
   ],
   "source": [
    "#before the comma indicates rows and after the column indicates columns\n",
    "df.iloc[2:,1:3]"
   ]
  },
  {
   "cell_type": "code",
   "execution_count": 17,
   "id": "dfa192c9",
   "metadata": {},
   "outputs": [
    {
     "data": {
      "text/plain": [
       "Fiscal Year                                   0\n",
       "Month Ending                                  0\n",
       "Licensee                                      0\n",
       "Wagers                                        0\n",
       "Patron Winnings                               0\n",
       "Cancelled Wagers                              0\n",
       "Online Casino Gaming Win/(Loss)               0\n",
       "Promotional Coupons or Credits Wagered (3)    0\n",
       "Promotional Deduction (4)                     0\n",
       "Total Gross Gaming Revenue                    0\n",
       "Payment (5)                                   0\n",
       "dtype: int64"
      ]
     },
     "execution_count": 17,
     "metadata": {},
     "output_type": "execute_result"
    }
   ],
   "source": [
    "#.sum gives the count here\n",
    "df.isnull().sum()"
   ]
  },
  {
   "cell_type": "code",
   "execution_count": 28,
   "id": "43991572",
   "metadata": {},
   "outputs": [
    {
     "name": "stdout",
     "output_type": "stream",
     "text": [
      "0      06/30/2022 12:00:00 AM\n",
      "1      06/30/2022 12:00:00 AM\n",
      "2      06/30/2022 12:00:00 AM\n",
      "3      06/30/2022 12:00:00 AM\n",
      "4      05/31/2022 12:00:00 AM\n",
      "                ...          \n",
      "138    08/31/2024 12:00:00 AM\n",
      "139    07/31/2024 12:00:00 AM\n",
      "140    07/31/2024 12:00:00 AM\n",
      "141    07/31/2024 12:00:00 AM\n",
      "142    07/31/2024 12:00:00 AM\n",
      "Name: Month Ending, Length: 143, dtype: object\n"
     ]
    }
   ],
   "source": [
    "#prints particular month\n",
    "print(df[\"Month Ending\"])\n"
   ]
  },
  {
   "cell_type": "code",
   "execution_count": 33,
   "id": "597f4772",
   "metadata": {},
   "outputs": [
    {
     "data": {
      "text/html": [
       "<div>\n",
       "<style scoped>\n",
       "    .dataframe tbody tr th:only-of-type {\n",
       "        vertical-align: middle;\n",
       "    }\n",
       "\n",
       "    .dataframe tbody tr th {\n",
       "        vertical-align: top;\n",
       "    }\n",
       "\n",
       "    .dataframe thead th {\n",
       "        text-align: right;\n",
       "    }\n",
       "</style>\n",
       "<table border=\"1\" class=\"dataframe\">\n",
       "  <thead>\n",
       "    <tr style=\"text-align: right;\">\n",
       "      <th></th>\n",
       "      <th>Wagers</th>\n",
       "      <th>Patron Winnings</th>\n",
       "      <th>Cancelled Wagers</th>\n",
       "      <th>Online Casino Gaming Win/(Loss)</th>\n",
       "      <th>Promotional Coupons or Credits Wagered (3)</th>\n",
       "      <th>Promotional Deduction (4)</th>\n",
       "      <th>Total Gross Gaming Revenue</th>\n",
       "      <th>Payment (5)</th>\n",
       "    </tr>\n",
       "  </thead>\n",
       "  <tbody>\n",
       "    <tr>\n",
       "      <th>count</th>\n",
       "      <td>1.430000e+02</td>\n",
       "      <td>1.430000e+02</td>\n",
       "      <td>1.430000e+02</td>\n",
       "      <td>1.430000e+02</td>\n",
       "      <td>1.430000e+02</td>\n",
       "      <td>1.430000e+02</td>\n",
       "      <td>1.430000e+02</td>\n",
       "      <td>1.430000e+02</td>\n",
       "    </tr>\n",
       "    <tr>\n",
       "      <th>mean</th>\n",
       "      <td>2.742207e+08</td>\n",
       "      <td>2.655218e+08</td>\n",
       "      <td>1.783408e+05</td>\n",
       "      <td>8.520509e+06</td>\n",
       "      <td>2.909760e+06</td>\n",
       "      <td>1.470359e+06</td>\n",
       "      <td>7.050150e+06</td>\n",
       "      <td>1.269229e+06</td>\n",
       "    </tr>\n",
       "    <tr>\n",
       "      <th>std</th>\n",
       "      <td>2.815530e+08</td>\n",
       "      <td>2.725166e+08</td>\n",
       "      <td>2.826004e+05</td>\n",
       "      <td>8.921912e+06</td>\n",
       "      <td>5.194974e+06</td>\n",
       "      <td>1.512958e+06</td>\n",
       "      <td>7.483596e+06</td>\n",
       "      <td>1.346855e+06</td>\n",
       "    </tr>\n",
       "    <tr>\n",
       "      <th>min</th>\n",
       "      <td>1.145280e+05</td>\n",
       "      <td>1.113650e+05</td>\n",
       "      <td>0.000000e+00</td>\n",
       "      <td>-8.099000e+04</td>\n",
       "      <td>0.000000e+00</td>\n",
       "      <td>0.000000e+00</td>\n",
       "      <td>-8.099000e+04</td>\n",
       "      <td>0.000000e+00</td>\n",
       "    </tr>\n",
       "    <tr>\n",
       "      <th>25%</th>\n",
       "      <td>1.407190e+06</td>\n",
       "      <td>1.357855e+06</td>\n",
       "      <td>5.000000e+00</td>\n",
       "      <td>3.713950e+04</td>\n",
       "      <td>1.118100e+04</td>\n",
       "      <td>6.188500e+03</td>\n",
       "      <td>3.172700e+04</td>\n",
       "      <td>5.711000e+03</td>\n",
       "    </tr>\n",
       "    <tr>\n",
       "      <th>50%</th>\n",
       "      <td>2.656540e+08</td>\n",
       "      <td>2.575127e+08</td>\n",
       "      <td>3.887000e+03</td>\n",
       "      <td>7.866081e+06</td>\n",
       "      <td>1.065100e+06</td>\n",
       "      <td>1.021521e+06</td>\n",
       "      <td>6.821088e+06</td>\n",
       "      <td>1.227796e+06</td>\n",
       "    </tr>\n",
       "    <tr>\n",
       "      <th>75%</th>\n",
       "      <td>5.352846e+08</td>\n",
       "      <td>5.156584e+08</td>\n",
       "      <td>2.913700e+05</td>\n",
       "      <td>1.587461e+07</td>\n",
       "      <td>3.844558e+06</td>\n",
       "      <td>3.071548e+06</td>\n",
       "      <td>1.304302e+07</td>\n",
       "      <td>2.347743e+06</td>\n",
       "    </tr>\n",
       "    <tr>\n",
       "      <th>max</th>\n",
       "      <td>7.838842e+08</td>\n",
       "      <td>7.573176e+08</td>\n",
       "      <td>1.133136e+06</td>\n",
       "      <td>2.570443e+07</td>\n",
       "      <td>3.220656e+07</td>\n",
       "      <td>4.163625e+06</td>\n",
       "      <td>2.281557e+07</td>\n",
       "      <td>4.106803e+06</td>\n",
       "    </tr>\n",
       "  </tbody>\n",
       "</table>\n",
       "</div>"
      ],
      "text/plain": [
       "             Wagers  Patron Winnings  Cancelled Wagers  \\\n",
       "count  1.430000e+02     1.430000e+02      1.430000e+02   \n",
       "mean   2.742207e+08     2.655218e+08      1.783408e+05   \n",
       "std    2.815530e+08     2.725166e+08      2.826004e+05   \n",
       "min    1.145280e+05     1.113650e+05      0.000000e+00   \n",
       "25%    1.407190e+06     1.357855e+06      5.000000e+00   \n",
       "50%    2.656540e+08     2.575127e+08      3.887000e+03   \n",
       "75%    5.352846e+08     5.156584e+08      2.913700e+05   \n",
       "max    7.838842e+08     7.573176e+08      1.133136e+06   \n",
       "\n",
       "       Online Casino Gaming Win/(Loss)  \\\n",
       "count                     1.430000e+02   \n",
       "mean                      8.520509e+06   \n",
       "std                       8.921912e+06   \n",
       "min                      -8.099000e+04   \n",
       "25%                       3.713950e+04   \n",
       "50%                       7.866081e+06   \n",
       "75%                       1.587461e+07   \n",
       "max                       2.570443e+07   \n",
       "\n",
       "       Promotional Coupons or Credits Wagered (3)  Promotional Deduction (4)  \\\n",
       "count                                1.430000e+02               1.430000e+02   \n",
       "mean                                 2.909760e+06               1.470359e+06   \n",
       "std                                  5.194974e+06               1.512958e+06   \n",
       "min                                  0.000000e+00               0.000000e+00   \n",
       "25%                                  1.118100e+04               6.188500e+03   \n",
       "50%                                  1.065100e+06               1.021521e+06   \n",
       "75%                                  3.844558e+06               3.071548e+06   \n",
       "max                                  3.220656e+07               4.163625e+06   \n",
       "\n",
       "       Total Gross Gaming Revenue   Payment (5)  \n",
       "count                1.430000e+02  1.430000e+02  \n",
       "mean                 7.050150e+06  1.269229e+06  \n",
       "std                  7.483596e+06  1.346855e+06  \n",
       "min                 -8.099000e+04  0.000000e+00  \n",
       "25%                  3.172700e+04  5.711000e+03  \n",
       "50%                  6.821088e+06  1.227796e+06  \n",
       "75%                  1.304302e+07  2.347743e+06  \n",
       "max                  2.281557e+07  4.106803e+06  "
      ]
     },
     "execution_count": 33,
     "metadata": {},
     "output_type": "execute_result"
    }
   ],
   "source": [
    "#it gives the all the values like mean,min,count e.t.c\n",
    "df.describe()"
   ]
  },
  {
   "cell_type": "code",
   "execution_count": 48,
   "id": "a1c64e23",
   "metadata": {},
   "outputs": [
    {
     "data": {
      "text/html": [
       "<div>\n",
       "<style scoped>\n",
       "    .dataframe tbody tr th:only-of-type {\n",
       "        vertical-align: middle;\n",
       "    }\n",
       "\n",
       "    .dataframe tbody tr th {\n",
       "        vertical-align: top;\n",
       "    }\n",
       "\n",
       "    .dataframe thead th {\n",
       "        text-align: right;\n",
       "    }\n",
       "</style>\n",
       "<table border=\"1\" class=\"dataframe\">\n",
       "  <thead>\n",
       "    <tr style=\"text-align: right;\">\n",
       "      <th></th>\n",
       "      <th>Fiscal Year</th>\n",
       "      <th>Month Ending</th>\n",
       "      <th>Licensee</th>\n",
       "      <th>bettings</th>\n",
       "      <th>Patron Winnings</th>\n",
       "      <th>Cancelled Wagers</th>\n",
       "      <th>Online Casino Gaming Win/(Loss)</th>\n",
       "      <th>Promotional Coupons or Credits Wagered (3)</th>\n",
       "      <th>Promotional Deduction (4)</th>\n",
       "      <th>Total Gross Gaming Revenue</th>\n",
       "      <th>Payment (5)</th>\n",
       "    </tr>\n",
       "  </thead>\n",
       "  <tbody>\n",
       "    <tr>\n",
       "      <th>0</th>\n",
       "      <td>2021/22</td>\n",
       "      <td>06/30/2022 12:00:00 AM</td>\n",
       "      <td>Mohegan Tribe On-Reservation</td>\n",
       "      <td>379023</td>\n",
       "      <td>335505</td>\n",
       "      <td>5</td>\n",
       "      <td>43513</td>\n",
       "      <td>6390</td>\n",
       "      <td>6390</td>\n",
       "      <td>37123</td>\n",
       "      <td>6682</td>\n",
       "    </tr>\n",
       "    <tr>\n",
       "      <th>1</th>\n",
       "      <td>2021/22</td>\n",
       "      <td>06/30/2022 12:00:00 AM</td>\n",
       "      <td>MPTN On-Reservation</td>\n",
       "      <td>671843</td>\n",
       "      <td>685886</td>\n",
       "      <td>3</td>\n",
       "      <td>-14046</td>\n",
       "      <td>29041</td>\n",
       "      <td>0</td>\n",
       "      <td>-14046</td>\n",
       "      <td>0</td>\n",
       "    </tr>\n",
       "    <tr>\n",
       "      <th>2</th>\n",
       "      <td>2021/22</td>\n",
       "      <td>06/30/2022 12:00:00 AM</td>\n",
       "      <td>MPI Master Wagering License CT, LLC</td>\n",
       "      <td>420056291</td>\n",
       "      <td>406814933</td>\n",
       "      <td>164727</td>\n",
       "      <td>13076631</td>\n",
       "      <td>12372142</td>\n",
       "      <td>3269158</td>\n",
       "      <td>9807473</td>\n",
       "      <td>1765345</td>\n",
       "    </tr>\n",
       "    <tr>\n",
       "      <th>3</th>\n",
       "      <td>2021/22</td>\n",
       "      <td>06/30/2022 12:00:00 AM</td>\n",
       "      <td>Mohegan Digital, LLC</td>\n",
       "      <td>254393582</td>\n",
       "      <td>246515856</td>\n",
       "      <td>11645</td>\n",
       "      <td>7866081</td>\n",
       "      <td>1397441</td>\n",
       "      <td>1397441</td>\n",
       "      <td>6468640</td>\n",
       "      <td>1164355</td>\n",
       "    </tr>\n",
       "    <tr>\n",
       "      <th>4</th>\n",
       "      <td>2021/22</td>\n",
       "      <td>05/31/2022 12:00:00 AM</td>\n",
       "      <td>Mohegan Tribe On-Reservation</td>\n",
       "      <td>716607</td>\n",
       "      <td>681306</td>\n",
       "      <td>0</td>\n",
       "      <td>35301</td>\n",
       "      <td>4130</td>\n",
       "      <td>4130</td>\n",
       "      <td>31171</td>\n",
       "      <td>5611</td>\n",
       "    </tr>\n",
       "    <tr>\n",
       "      <th>...</th>\n",
       "      <td>...</td>\n",
       "      <td>...</td>\n",
       "      <td>...</td>\n",
       "      <td>...</td>\n",
       "      <td>...</td>\n",
       "      <td>...</td>\n",
       "      <td>...</td>\n",
       "      <td>...</td>\n",
       "      <td>...</td>\n",
       "      <td>...</td>\n",
       "      <td>...</td>\n",
       "    </tr>\n",
       "    <tr>\n",
       "      <th>138</th>\n",
       "      <td>2024/25</td>\n",
       "      <td>08/31/2024 12:00:00 AM</td>\n",
       "      <td>Mohegan Digital, LLC</td>\n",
       "      <td>552906853</td>\n",
       "      <td>532307920</td>\n",
       "      <td>468730</td>\n",
       "      <td>20130203</td>\n",
       "      <td>4098131</td>\n",
       "      <td>3019530</td>\n",
       "      <td>17110672</td>\n",
       "      <td>3079921</td>\n",
       "    </tr>\n",
       "    <tr>\n",
       "      <th>139</th>\n",
       "      <td>2024/25</td>\n",
       "      <td>07/31/2024 12:00:00 AM</td>\n",
       "      <td>Mohegan Tribe On-Reservation</td>\n",
       "      <td>3543119</td>\n",
       "      <td>3410769</td>\n",
       "      <td>132</td>\n",
       "      <td>132219</td>\n",
       "      <td>20758</td>\n",
       "      <td>19833</td>\n",
       "      <td>112386</td>\n",
       "      <td>20229</td>\n",
       "    </tr>\n",
       "    <tr>\n",
       "      <th>140</th>\n",
       "      <td>2024/25</td>\n",
       "      <td>07/31/2024 12:00:00 AM</td>\n",
       "      <td>MPTN On-Reservation</td>\n",
       "      <td>3199509</td>\n",
       "      <td>3072580</td>\n",
       "      <td>265</td>\n",
       "      <td>126663</td>\n",
       "      <td>15071</td>\n",
       "      <td>15071</td>\n",
       "      <td>111592</td>\n",
       "      <td>20087</td>\n",
       "    </tr>\n",
       "    <tr>\n",
       "      <th>141</th>\n",
       "      <td>2024/25</td>\n",
       "      <td>07/31/2024 12:00:00 AM</td>\n",
       "      <td>MPI Master Wagering License CT, LLC</td>\n",
       "      <td>692210181</td>\n",
       "      <td>668971512</td>\n",
       "      <td>697914</td>\n",
       "      <td>22540755</td>\n",
       "      <td>4284383</td>\n",
       "      <td>3381113</td>\n",
       "      <td>19159642</td>\n",
       "      <td>3448735</td>\n",
       "    </tr>\n",
       "    <tr>\n",
       "      <th>142</th>\n",
       "      <td>2024/25</td>\n",
       "      <td>07/31/2024 12:00:00 AM</td>\n",
       "      <td>Mohegan Digital, LLC</td>\n",
       "      <td>535796500</td>\n",
       "      <td>516077716</td>\n",
       "      <td>561709</td>\n",
       "      <td>19157075</td>\n",
       "      <td>4411186</td>\n",
       "      <td>2873561</td>\n",
       "      <td>16283514</td>\n",
       "      <td>2931033</td>\n",
       "    </tr>\n",
       "  </tbody>\n",
       "</table>\n",
       "<p>143 rows × 11 columns</p>\n",
       "</div>"
      ],
      "text/plain": [
       "    Fiscal Year            Month Ending                             Licensee  \\\n",
       "0       2021/22  06/30/2022 12:00:00 AM         Mohegan Tribe On-Reservation   \n",
       "1       2021/22  06/30/2022 12:00:00 AM                  MPTN On-Reservation   \n",
       "2       2021/22  06/30/2022 12:00:00 AM  MPI Master Wagering License CT, LLC   \n",
       "3       2021/22  06/30/2022 12:00:00 AM                 Mohegan Digital, LLC   \n",
       "4       2021/22  05/31/2022 12:00:00 AM         Mohegan Tribe On-Reservation   \n",
       "..          ...                     ...                                  ...   \n",
       "138     2024/25  08/31/2024 12:00:00 AM                 Mohegan Digital, LLC   \n",
       "139     2024/25  07/31/2024 12:00:00 AM         Mohegan Tribe On-Reservation   \n",
       "140     2024/25  07/31/2024 12:00:00 AM                  MPTN On-Reservation   \n",
       "141     2024/25  07/31/2024 12:00:00 AM  MPI Master Wagering License CT, LLC   \n",
       "142     2024/25  07/31/2024 12:00:00 AM                 Mohegan Digital, LLC   \n",
       "\n",
       "      bettings  Patron Winnings  Cancelled Wagers  \\\n",
       "0       379023           335505                 5   \n",
       "1       671843           685886                 3   \n",
       "2    420056291        406814933            164727   \n",
       "3    254393582        246515856             11645   \n",
       "4       716607           681306                 0   \n",
       "..         ...              ...               ...   \n",
       "138  552906853        532307920            468730   \n",
       "139    3543119          3410769               132   \n",
       "140    3199509          3072580               265   \n",
       "141  692210181        668971512            697914   \n",
       "142  535796500        516077716            561709   \n",
       "\n",
       "     Online Casino Gaming Win/(Loss)  \\\n",
       "0                              43513   \n",
       "1                             -14046   \n",
       "2                           13076631   \n",
       "3                            7866081   \n",
       "4                              35301   \n",
       "..                               ...   \n",
       "138                         20130203   \n",
       "139                           132219   \n",
       "140                           126663   \n",
       "141                         22540755   \n",
       "142                         19157075   \n",
       "\n",
       "     Promotional Coupons or Credits Wagered (3)  Promotional Deduction (4)  \\\n",
       "0                                          6390                       6390   \n",
       "1                                         29041                          0   \n",
       "2                                      12372142                    3269158   \n",
       "3                                       1397441                    1397441   \n",
       "4                                          4130                       4130   \n",
       "..                                          ...                        ...   \n",
       "138                                     4098131                    3019530   \n",
       "139                                       20758                      19833   \n",
       "140                                       15071                      15071   \n",
       "141                                     4284383                    3381113   \n",
       "142                                     4411186                    2873561   \n",
       "\n",
       "     Total Gross Gaming Revenue  Payment (5)  \n",
       "0                         37123         6682  \n",
       "1                        -14046            0  \n",
       "2                       9807473      1765345  \n",
       "3                       6468640      1164355  \n",
       "4                         31171         5611  \n",
       "..                          ...          ...  \n",
       "138                    17110672      3079921  \n",
       "139                      112386        20229  \n",
       "140                      111592        20087  \n",
       "141                    19159642      3448735  \n",
       "142                    16283514      2931033  \n",
       "\n",
       "[143 rows x 11 columns]"
      ]
     },
     "execution_count": 48,
     "metadata": {},
     "output_type": "execute_result"
    }
   ],
   "source": [
    "#changed the Wagers columns name to bettings\n",
    "#if we dont put  inplace=true it will only change in this cell\n",
    "df.rename(columns={'Wagers':'bettings'})"
   ]
  },
  {
   "cell_type": "code",
   "execution_count": 43,
   "id": "f41d9ded",
   "metadata": {},
   "outputs": [
    {
     "data": {
      "text/plain": [
       "274220672.5874126"
      ]
     },
     "execution_count": 43,
     "metadata": {},
     "output_type": "execute_result"
    }
   ],
   "source": [
    "df['bettings'].mean()"
   ]
  },
  {
   "cell_type": "code",
   "execution_count": 45,
   "id": "66d1bba8",
   "metadata": {},
   "outputs": [
    {
     "data": {
      "text/plain": [
       "281553025.83681095"
      ]
     },
     "execution_count": 45,
     "metadata": {},
     "output_type": "execute_result"
    }
   ],
   "source": [
    "df['bettings'].std()"
   ]
  },
  {
   "cell_type": "code",
   "execution_count": 58,
   "id": "8e715b53",
   "metadata": {},
   "outputs": [],
   "source": [
    "import pandas as pd\n",
    "import numpy as np\n",
    "df=pd.read_csv(\"clevelanda.csv\")\n"
   ]
  },
  {
   "cell_type": "code",
   "execution_count": 61,
   "id": "914c37a6",
   "metadata": {},
   "outputs": [
    {
     "data": {
      "text/plain": [
       "age         0\n",
       "gender      0\n",
       "cp          0\n",
       "trestbps    0\n",
       "chol        0\n",
       "fps         0\n",
       "restecg     0\n",
       "thalach     0\n",
       "exang       0\n",
       "oldpeak     0\n",
       "slope       0\n",
       "ca          0\n",
       "thal        0\n",
       "class       0\n",
       "dtype: int64"
      ]
     },
     "execution_count": 61,
     "metadata": {},
     "output_type": "execute_result"
    }
   ],
   "source": [
    "df.isnull().sum()"
   ]
  },
  {
   "cell_type": "code",
   "execution_count": 63,
   "id": "e8cd6174",
   "metadata": {},
   "outputs": [
    {
     "data": {
      "text/plain": [
       "Index(['age', 'gender', 'cp', 'trestbps', 'chol', 'fps', 'restecg', 'thalach',\n",
       "       'exang', 'oldpeak', 'slope', 'ca', 'thal', 'class'],\n",
       "      dtype='object')"
      ]
     },
     "execution_count": 63,
     "metadata": {},
     "output_type": "execute_result"
    }
   ],
   "source": [
    "df.columns"
   ]
  },
  {
   "cell_type": "code",
   "execution_count": 70,
   "id": "1212dc18",
   "metadata": {
    "scrolled": true
   },
   "outputs": [
    {
     "data": {
      "text/html": [
       "<div>\n",
       "<style scoped>\n",
       "    .dataframe tbody tr th:only-of-type {\n",
       "        vertical-align: middle;\n",
       "    }\n",
       "\n",
       "    .dataframe tbody tr th {\n",
       "        vertical-align: top;\n",
       "    }\n",
       "\n",
       "    .dataframe thead th {\n",
       "        text-align: right;\n",
       "    }\n",
       "</style>\n",
       "<table border=\"1\" class=\"dataframe\">\n",
       "  <thead>\n",
       "    <tr style=\"text-align: right;\">\n",
       "      <th></th>\n",
       "      <th>age</th>\n",
       "      <th>gender</th>\n",
       "      <th>cp</th>\n",
       "      <th>trestbps</th>\n",
       "      <th>chol</th>\n",
       "    </tr>\n",
       "  </thead>\n",
       "  <tbody>\n",
       "    <tr>\n",
       "      <th>0</th>\n",
       "      <td>63</td>\n",
       "      <td>1</td>\n",
       "      <td>1</td>\n",
       "      <td>145</td>\n",
       "      <td>233</td>\n",
       "    </tr>\n",
       "    <tr>\n",
       "      <th>1</th>\n",
       "      <td>67</td>\n",
       "      <td>1</td>\n",
       "      <td>4</td>\n",
       "      <td>160</td>\n",
       "      <td>286</td>\n",
       "    </tr>\n",
       "    <tr>\n",
       "      <th>2</th>\n",
       "      <td>67</td>\n",
       "      <td>1</td>\n",
       "      <td>4</td>\n",
       "      <td>120</td>\n",
       "      <td>229</td>\n",
       "    </tr>\n",
       "    <tr>\n",
       "      <th>3</th>\n",
       "      <td>37</td>\n",
       "      <td>1</td>\n",
       "      <td>3</td>\n",
       "      <td>130</td>\n",
       "      <td>250</td>\n",
       "    </tr>\n",
       "    <tr>\n",
       "      <th>4</th>\n",
       "      <td>41</td>\n",
       "      <td>0</td>\n",
       "      <td>2</td>\n",
       "      <td>130</td>\n",
       "      <td>204</td>\n",
       "    </tr>\n",
       "  </tbody>\n",
       "</table>\n",
       "</div>"
      ],
      "text/plain": [
       "   age  gender  cp  trestbps  chol\n",
       "0   63       1   1       145   233\n",
       "1   67       1   4       160   286\n",
       "2   67       1   4       120   229\n",
       "3   37       1   3       130   250\n",
       "4   41       0   2       130   204"
      ]
     },
     "execution_count": 70,
     "metadata": {},
     "output_type": "execute_result"
    }
   ],
   "source": [
    "df.iloc[:5,:5]"
   ]
  },
  {
   "cell_type": "code",
   "execution_count": 73,
   "id": "25b01177",
   "metadata": {},
   "outputs": [
    {
     "data": {
      "text/plain": [
       "0      0\n",
       "1      3\n",
       "2      2\n",
       "3      0\n",
       "4      0\n",
       "      ..\n",
       "298    0\n",
       "299    2\n",
       "300    1\n",
       "301    1\n",
       "302    ?\n",
       "Name: ca, Length: 303, dtype: object"
      ]
     },
     "execution_count": 73,
     "metadata": {},
     "output_type": "execute_result"
    }
   ],
   "source": [
    "#helps to print the column\n",
    "df[\"ca\"]"
   ]
  },
  {
   "cell_type": "code",
   "execution_count": 74,
   "id": "72a054bb",
   "metadata": {},
   "outputs": [
    {
     "data": {
      "text/plain": [
       "ca\n",
       "0    176\n",
       "1     65\n",
       "2     38\n",
       "3     20\n",
       "?      4\n",
       "Name: count, dtype: int64"
      ]
     },
     "execution_count": 74,
     "metadata": {},
     "output_type": "execute_result"
    }
   ],
   "source": [
    "#it gives the count of the ca\n",
    "df['ca'].value_counts()"
   ]
  },
  {
   "cell_type": "code",
   "execution_count": 75,
   "id": "47ab51ea",
   "metadata": {},
   "outputs": [
    {
     "name": "stdout",
     "output_type": "stream",
     "text": [
      "Collecting plotly-express\n",
      "  Obtaining dependency information for plotly-express from https://files.pythonhosted.org/packages/d4/d6/8a2906f51e073a4be80cab35cfa10e7a34853e60f3ed5304ac470852a08d/plotly_express-0.4.1-py2.py3-none-any.whl.metadata\n",
      "  Downloading plotly_express-0.4.1-py2.py3-none-any.whl.metadata (1.7 kB)\n",
      "Requirement already satisfied: pandas>=0.20.0 in c:\\users\\cvr\\anaconda3\\lib\\site-packages (from plotly-express) (2.0.3)\n",
      "Requirement already satisfied: plotly>=4.1.0 in c:\\users\\cvr\\anaconda3\\lib\\site-packages (from plotly-express) (5.9.0)\n",
      "Requirement already satisfied: statsmodels>=0.9.0 in c:\\users\\cvr\\anaconda3\\lib\\site-packages (from plotly-express) (0.14.0)\n",
      "Requirement already satisfied: scipy>=0.18 in c:\\users\\cvr\\anaconda3\\lib\\site-packages (from plotly-express) (1.11.1)\n",
      "Requirement already satisfied: patsy>=0.5 in c:\\users\\cvr\\anaconda3\\lib\\site-packages (from plotly-express) (0.5.3)\n",
      "Requirement already satisfied: numpy>=1.11 in c:\\users\\cvr\\anaconda3\\lib\\site-packages (from plotly-express) (1.24.3)\n",
      "Requirement already satisfied: python-dateutil>=2.8.2 in c:\\users\\cvr\\anaconda3\\lib\\site-packages (from pandas>=0.20.0->plotly-express) (2.8.2)\n",
      "Requirement already satisfied: pytz>=2020.1 in c:\\users\\cvr\\anaconda3\\lib\\site-packages (from pandas>=0.20.0->plotly-express) (2023.3.post1)\n",
      "Requirement already satisfied: tzdata>=2022.1 in c:\\users\\cvr\\anaconda3\\lib\\site-packages (from pandas>=0.20.0->plotly-express) (2023.3)\n",
      "Requirement already satisfied: six in c:\\users\\cvr\\anaconda3\\lib\\site-packages (from patsy>=0.5->plotly-express) (1.16.0)\n",
      "Requirement already satisfied: tenacity>=6.2.0 in c:\\users\\cvr\\anaconda3\\lib\\site-packages (from plotly>=4.1.0->plotly-express) (8.2.2)\n",
      "Requirement already satisfied: packaging>=21.3 in c:\\users\\cvr\\anaconda3\\lib\\site-packages (from statsmodels>=0.9.0->plotly-express) (23.1)\n",
      "Downloading plotly_express-0.4.1-py2.py3-none-any.whl (2.9 kB)\n",
      "Installing collected packages: plotly-express\n",
      "Successfully installed plotly-express-0.4.1\n",
      "Note: you may need to restart the kernel to use updated packages.\n"
     ]
    }
   ],
   "source": [
    "pip install plotly-express"
   ]
  },
  {
   "cell_type": "code",
   "execution_count": 83,
   "id": "f355e442",
   "metadata": {},
   "outputs": [],
   "source": [
    "import plotly.express as px"
   ]
  },
  {
   "cell_type": "code",
   "execution_count": 100,
   "id": "2ae206cf",
   "metadata": {},
   "outputs": [
    {
     "data": {
      "application/vnd.plotly.v1+json": {
       "config": {
        "plotlyServerURL": "https://plot.ly"
       },
       "data": [
        {
         "alignmentgroup": "True",
         "bingroup": "x",
         "hovertemplate": "age=%{x}<br>count=%{y}<extra></extra>",
         "legendgroup": "",
         "marker": {
          "color": "#636efa",
          "pattern": {
           "shape": ""
          }
         },
         "name": "",
         "nbinsx": 50,
         "offsetgroup": "",
         "orientation": "v",
         "showlegend": false,
         "type": "histogram",
         "x": [
          63,
          67,
          67,
          37,
          41,
          56,
          62,
          57,
          63,
          53,
          57,
          56,
          56,
          44,
          52,
          57,
          48,
          54,
          48,
          49,
          64,
          58,
          58,
          58,
          60,
          50,
          58,
          66,
          43,
          40,
          69,
          60,
          64,
          59,
          44,
          42,
          43,
          57,
          55,
          61,
          65,
          40,
          71,
          59,
          61,
          58,
          51,
          50,
          65,
          53,
          41,
          65,
          44,
          44,
          60,
          54,
          50,
          41,
          54,
          51,
          51,
          46,
          58,
          54,
          54,
          60,
          60,
          54,
          59,
          46,
          65,
          67,
          62,
          65,
          44,
          65,
          60,
          51,
          48,
          58,
          45,
          53,
          39,
          68,
          52,
          44,
          47,
          53,
          53,
          51,
          66,
          62,
          62,
          44,
          63,
          52,
          59,
          60,
          52,
          48,
          45,
          34,
          57,
          71,
          49,
          54,
          59,
          57,
          61,
          39,
          61,
          56,
          52,
          43,
          62,
          41,
          58,
          35,
          63,
          65,
          48,
          63,
          51,
          55,
          65,
          45,
          56,
          54,
          44,
          62,
          54,
          51,
          29,
          51,
          43,
          55,
          70,
          62,
          35,
          51,
          59,
          59,
          52,
          64,
          58,
          47,
          57,
          41,
          45,
          60,
          52,
          42,
          67,
          55,
          64,
          70,
          51,
          58,
          60,
          68,
          46,
          77,
          54,
          58,
          48,
          57,
          52,
          54,
          35,
          45,
          70,
          53,
          59,
          62,
          64,
          57,
          52,
          56,
          43,
          53,
          48,
          56,
          42,
          59,
          60,
          63,
          42,
          66,
          54,
          69,
          50,
          51,
          43,
          62,
          68,
          67,
          69,
          45,
          50,
          59,
          50,
          64,
          57,
          64,
          43,
          45,
          58,
          50,
          55,
          62,
          37,
          38,
          41,
          66,
          52,
          56,
          46,
          46,
          64,
          59,
          41,
          54,
          39,
          53,
          63,
          34,
          47,
          67,
          54,
          66,
          52,
          55,
          49,
          74,
          54,
          54,
          56,
          46,
          49,
          42,
          41,
          41,
          49,
          61,
          60,
          67,
          58,
          47,
          52,
          62,
          57,
          58,
          64,
          51,
          43,
          42,
          67,
          76,
          70,
          57,
          44,
          58,
          60,
          44,
          61,
          42,
          52,
          59,
          40,
          42,
          61,
          66,
          46,
          71,
          59,
          64,
          66,
          39,
          57,
          58,
          57,
          47,
          55,
          35,
          61,
          58,
          58,
          58,
          56,
          56,
          67,
          55,
          44,
          63,
          63,
          41,
          59,
          57,
          45,
          68,
          57,
          57,
          38
         ],
         "xaxis": "x",
         "yaxis": "y"
        }
       ],
       "layout": {
        "barmode": "relative",
        "legend": {
         "tracegroupgap": 0
        },
        "template": {
         "data": {
          "bar": [
           {
            "error_x": {
             "color": "#2a3f5f"
            },
            "error_y": {
             "color": "#2a3f5f"
            },
            "marker": {
             "line": {
              "color": "#E5ECF6",
              "width": 0.5
             },
             "pattern": {
              "fillmode": "overlay",
              "size": 10,
              "solidity": 0.2
             }
            },
            "type": "bar"
           }
          ],
          "barpolar": [
           {
            "marker": {
             "line": {
              "color": "#E5ECF6",
              "width": 0.5
             },
             "pattern": {
              "fillmode": "overlay",
              "size": 10,
              "solidity": 0.2
             }
            },
            "type": "barpolar"
           }
          ],
          "carpet": [
           {
            "aaxis": {
             "endlinecolor": "#2a3f5f",
             "gridcolor": "white",
             "linecolor": "white",
             "minorgridcolor": "white",
             "startlinecolor": "#2a3f5f"
            },
            "baxis": {
             "endlinecolor": "#2a3f5f",
             "gridcolor": "white",
             "linecolor": "white",
             "minorgridcolor": "white",
             "startlinecolor": "#2a3f5f"
            },
            "type": "carpet"
           }
          ],
          "choropleth": [
           {
            "colorbar": {
             "outlinewidth": 0,
             "ticks": ""
            },
            "type": "choropleth"
           }
          ],
          "contour": [
           {
            "colorbar": {
             "outlinewidth": 0,
             "ticks": ""
            },
            "colorscale": [
             [
              0,
              "#0d0887"
             ],
             [
              0.1111111111111111,
              "#46039f"
             ],
             [
              0.2222222222222222,
              "#7201a8"
             ],
             [
              0.3333333333333333,
              "#9c179e"
             ],
             [
              0.4444444444444444,
              "#bd3786"
             ],
             [
              0.5555555555555556,
              "#d8576b"
             ],
             [
              0.6666666666666666,
              "#ed7953"
             ],
             [
              0.7777777777777778,
              "#fb9f3a"
             ],
             [
              0.8888888888888888,
              "#fdca26"
             ],
             [
              1,
              "#f0f921"
             ]
            ],
            "type": "contour"
           }
          ],
          "contourcarpet": [
           {
            "colorbar": {
             "outlinewidth": 0,
             "ticks": ""
            },
            "type": "contourcarpet"
           }
          ],
          "heatmap": [
           {
            "colorbar": {
             "outlinewidth": 0,
             "ticks": ""
            },
            "colorscale": [
             [
              0,
              "#0d0887"
             ],
             [
              0.1111111111111111,
              "#46039f"
             ],
             [
              0.2222222222222222,
              "#7201a8"
             ],
             [
              0.3333333333333333,
              "#9c179e"
             ],
             [
              0.4444444444444444,
              "#bd3786"
             ],
             [
              0.5555555555555556,
              "#d8576b"
             ],
             [
              0.6666666666666666,
              "#ed7953"
             ],
             [
              0.7777777777777778,
              "#fb9f3a"
             ],
             [
              0.8888888888888888,
              "#fdca26"
             ],
             [
              1,
              "#f0f921"
             ]
            ],
            "type": "heatmap"
           }
          ],
          "heatmapgl": [
           {
            "colorbar": {
             "outlinewidth": 0,
             "ticks": ""
            },
            "colorscale": [
             [
              0,
              "#0d0887"
             ],
             [
              0.1111111111111111,
              "#46039f"
             ],
             [
              0.2222222222222222,
              "#7201a8"
             ],
             [
              0.3333333333333333,
              "#9c179e"
             ],
             [
              0.4444444444444444,
              "#bd3786"
             ],
             [
              0.5555555555555556,
              "#d8576b"
             ],
             [
              0.6666666666666666,
              "#ed7953"
             ],
             [
              0.7777777777777778,
              "#fb9f3a"
             ],
             [
              0.8888888888888888,
              "#fdca26"
             ],
             [
              1,
              "#f0f921"
             ]
            ],
            "type": "heatmapgl"
           }
          ],
          "histogram": [
           {
            "marker": {
             "pattern": {
              "fillmode": "overlay",
              "size": 10,
              "solidity": 0.2
             }
            },
            "type": "histogram"
           }
          ],
          "histogram2d": [
           {
            "colorbar": {
             "outlinewidth": 0,
             "ticks": ""
            },
            "colorscale": [
             [
              0,
              "#0d0887"
             ],
             [
              0.1111111111111111,
              "#46039f"
             ],
             [
              0.2222222222222222,
              "#7201a8"
             ],
             [
              0.3333333333333333,
              "#9c179e"
             ],
             [
              0.4444444444444444,
              "#bd3786"
             ],
             [
              0.5555555555555556,
              "#d8576b"
             ],
             [
              0.6666666666666666,
              "#ed7953"
             ],
             [
              0.7777777777777778,
              "#fb9f3a"
             ],
             [
              0.8888888888888888,
              "#fdca26"
             ],
             [
              1,
              "#f0f921"
             ]
            ],
            "type": "histogram2d"
           }
          ],
          "histogram2dcontour": [
           {
            "colorbar": {
             "outlinewidth": 0,
             "ticks": ""
            },
            "colorscale": [
             [
              0,
              "#0d0887"
             ],
             [
              0.1111111111111111,
              "#46039f"
             ],
             [
              0.2222222222222222,
              "#7201a8"
             ],
             [
              0.3333333333333333,
              "#9c179e"
             ],
             [
              0.4444444444444444,
              "#bd3786"
             ],
             [
              0.5555555555555556,
              "#d8576b"
             ],
             [
              0.6666666666666666,
              "#ed7953"
             ],
             [
              0.7777777777777778,
              "#fb9f3a"
             ],
             [
              0.8888888888888888,
              "#fdca26"
             ],
             [
              1,
              "#f0f921"
             ]
            ],
            "type": "histogram2dcontour"
           }
          ],
          "mesh3d": [
           {
            "colorbar": {
             "outlinewidth": 0,
             "ticks": ""
            },
            "type": "mesh3d"
           }
          ],
          "parcoords": [
           {
            "line": {
             "colorbar": {
              "outlinewidth": 0,
              "ticks": ""
             }
            },
            "type": "parcoords"
           }
          ],
          "pie": [
           {
            "automargin": true,
            "type": "pie"
           }
          ],
          "scatter": [
           {
            "fillpattern": {
             "fillmode": "overlay",
             "size": 10,
             "solidity": 0.2
            },
            "type": "scatter"
           }
          ],
          "scatter3d": [
           {
            "line": {
             "colorbar": {
              "outlinewidth": 0,
              "ticks": ""
             }
            },
            "marker": {
             "colorbar": {
              "outlinewidth": 0,
              "ticks": ""
             }
            },
            "type": "scatter3d"
           }
          ],
          "scattercarpet": [
           {
            "marker": {
             "colorbar": {
              "outlinewidth": 0,
              "ticks": ""
             }
            },
            "type": "scattercarpet"
           }
          ],
          "scattergeo": [
           {
            "marker": {
             "colorbar": {
              "outlinewidth": 0,
              "ticks": ""
             }
            },
            "type": "scattergeo"
           }
          ],
          "scattergl": [
           {
            "marker": {
             "colorbar": {
              "outlinewidth": 0,
              "ticks": ""
             }
            },
            "type": "scattergl"
           }
          ],
          "scattermapbox": [
           {
            "marker": {
             "colorbar": {
              "outlinewidth": 0,
              "ticks": ""
             }
            },
            "type": "scattermapbox"
           }
          ],
          "scatterpolar": [
           {
            "marker": {
             "colorbar": {
              "outlinewidth": 0,
              "ticks": ""
             }
            },
            "type": "scatterpolar"
           }
          ],
          "scatterpolargl": [
           {
            "marker": {
             "colorbar": {
              "outlinewidth": 0,
              "ticks": ""
             }
            },
            "type": "scatterpolargl"
           }
          ],
          "scatterternary": [
           {
            "marker": {
             "colorbar": {
              "outlinewidth": 0,
              "ticks": ""
             }
            },
            "type": "scatterternary"
           }
          ],
          "surface": [
           {
            "colorbar": {
             "outlinewidth": 0,
             "ticks": ""
            },
            "colorscale": [
             [
              0,
              "#0d0887"
             ],
             [
              0.1111111111111111,
              "#46039f"
             ],
             [
              0.2222222222222222,
              "#7201a8"
             ],
             [
              0.3333333333333333,
              "#9c179e"
             ],
             [
              0.4444444444444444,
              "#bd3786"
             ],
             [
              0.5555555555555556,
              "#d8576b"
             ],
             [
              0.6666666666666666,
              "#ed7953"
             ],
             [
              0.7777777777777778,
              "#fb9f3a"
             ],
             [
              0.8888888888888888,
              "#fdca26"
             ],
             [
              1,
              "#f0f921"
             ]
            ],
            "type": "surface"
           }
          ],
          "table": [
           {
            "cells": {
             "fill": {
              "color": "#EBF0F8"
             },
             "line": {
              "color": "white"
             }
            },
            "header": {
             "fill": {
              "color": "#C8D4E3"
             },
             "line": {
              "color": "white"
             }
            },
            "type": "table"
           }
          ]
         },
         "layout": {
          "annotationdefaults": {
           "arrowcolor": "#2a3f5f",
           "arrowhead": 0,
           "arrowwidth": 1
          },
          "autotypenumbers": "strict",
          "coloraxis": {
           "colorbar": {
            "outlinewidth": 0,
            "ticks": ""
           }
          },
          "colorscale": {
           "diverging": [
            [
             0,
             "#8e0152"
            ],
            [
             0.1,
             "#c51b7d"
            ],
            [
             0.2,
             "#de77ae"
            ],
            [
             0.3,
             "#f1b6da"
            ],
            [
             0.4,
             "#fde0ef"
            ],
            [
             0.5,
             "#f7f7f7"
            ],
            [
             0.6,
             "#e6f5d0"
            ],
            [
             0.7,
             "#b8e186"
            ],
            [
             0.8,
             "#7fbc41"
            ],
            [
             0.9,
             "#4d9221"
            ],
            [
             1,
             "#276419"
            ]
           ],
           "sequential": [
            [
             0,
             "#0d0887"
            ],
            [
             0.1111111111111111,
             "#46039f"
            ],
            [
             0.2222222222222222,
             "#7201a8"
            ],
            [
             0.3333333333333333,
             "#9c179e"
            ],
            [
             0.4444444444444444,
             "#bd3786"
            ],
            [
             0.5555555555555556,
             "#d8576b"
            ],
            [
             0.6666666666666666,
             "#ed7953"
            ],
            [
             0.7777777777777778,
             "#fb9f3a"
            ],
            [
             0.8888888888888888,
             "#fdca26"
            ],
            [
             1,
             "#f0f921"
            ]
           ],
           "sequentialminus": [
            [
             0,
             "#0d0887"
            ],
            [
             0.1111111111111111,
             "#46039f"
            ],
            [
             0.2222222222222222,
             "#7201a8"
            ],
            [
             0.3333333333333333,
             "#9c179e"
            ],
            [
             0.4444444444444444,
             "#bd3786"
            ],
            [
             0.5555555555555556,
             "#d8576b"
            ],
            [
             0.6666666666666666,
             "#ed7953"
            ],
            [
             0.7777777777777778,
             "#fb9f3a"
            ],
            [
             0.8888888888888888,
             "#fdca26"
            ],
            [
             1,
             "#f0f921"
            ]
           ]
          },
          "colorway": [
           "#636efa",
           "#EF553B",
           "#00cc96",
           "#ab63fa",
           "#FFA15A",
           "#19d3f3",
           "#FF6692",
           "#B6E880",
           "#FF97FF",
           "#FECB52"
          ],
          "font": {
           "color": "#2a3f5f"
          },
          "geo": {
           "bgcolor": "white",
           "lakecolor": "white",
           "landcolor": "#E5ECF6",
           "showlakes": true,
           "showland": true,
           "subunitcolor": "white"
          },
          "hoverlabel": {
           "align": "left"
          },
          "hovermode": "closest",
          "mapbox": {
           "style": "light"
          },
          "paper_bgcolor": "white",
          "plot_bgcolor": "#E5ECF6",
          "polar": {
           "angularaxis": {
            "gridcolor": "white",
            "linecolor": "white",
            "ticks": ""
           },
           "bgcolor": "#E5ECF6",
           "radialaxis": {
            "gridcolor": "white",
            "linecolor": "white",
            "ticks": ""
           }
          },
          "scene": {
           "xaxis": {
            "backgroundcolor": "#E5ECF6",
            "gridcolor": "white",
            "gridwidth": 2,
            "linecolor": "white",
            "showbackground": true,
            "ticks": "",
            "zerolinecolor": "white"
           },
           "yaxis": {
            "backgroundcolor": "#E5ECF6",
            "gridcolor": "white",
            "gridwidth": 2,
            "linecolor": "white",
            "showbackground": true,
            "ticks": "",
            "zerolinecolor": "white"
           },
           "zaxis": {
            "backgroundcolor": "#E5ECF6",
            "gridcolor": "white",
            "gridwidth": 2,
            "linecolor": "white",
            "showbackground": true,
            "ticks": "",
            "zerolinecolor": "white"
           }
          },
          "shapedefaults": {
           "line": {
            "color": "#2a3f5f"
           }
          },
          "ternary": {
           "aaxis": {
            "gridcolor": "white",
            "linecolor": "white",
            "ticks": ""
           },
           "baxis": {
            "gridcolor": "white",
            "linecolor": "white",
            "ticks": ""
           },
           "bgcolor": "#E5ECF6",
           "caxis": {
            "gridcolor": "white",
            "linecolor": "white",
            "ticks": ""
           }
          },
          "title": {
           "x": 0.05
          },
          "xaxis": {
           "automargin": true,
           "gridcolor": "white",
           "linecolor": "white",
           "ticks": "",
           "title": {
            "standoff": 15
           },
           "zerolinecolor": "white",
           "zerolinewidth": 2
          },
          "yaxis": {
           "automargin": true,
           "gridcolor": "white",
           "linecolor": "white",
           "ticks": "",
           "title": {
            "standoff": 15
           },
           "zerolinecolor": "white",
           "zerolinewidth": 2
          }
         }
        },
        "title": {
         "text": "age vs heartproblem stage"
        },
        "xaxis": {
         "anchor": "y",
         "domain": [
          0,
          1
         ],
         "title": {
          "text": "age"
         }
        },
        "yaxis": {
         "anchor": "x",
         "domain": [
          0,
          1
         ],
         "title": {
          "text": "count"
         }
        }
       }
      },
      "text/html": [
       "<div>                            <div id=\"9814a467-5ff2-4ca7-b490-a7c593457e3e\" class=\"plotly-graph-div\" style=\"height:525px; width:100%;\"></div>            <script type=\"text/javascript\">                require([\"plotly\"], function(Plotly) {                    window.PLOTLYENV=window.PLOTLYENV || {};                                    if (document.getElementById(\"9814a467-5ff2-4ca7-b490-a7c593457e3e\")) {                    Plotly.newPlot(                        \"9814a467-5ff2-4ca7-b490-a7c593457e3e\",                        [{\"alignmentgroup\":\"True\",\"bingroup\":\"x\",\"hovertemplate\":\"age=%{x}<br>count=%{y}<extra></extra>\",\"legendgroup\":\"\",\"marker\":{\"color\":\"#636efa\",\"pattern\":{\"shape\":\"\"}},\"name\":\"\",\"nbinsx\":50,\"offsetgroup\":\"\",\"orientation\":\"v\",\"showlegend\":false,\"x\":[63,67,67,37,41,56,62,57,63,53,57,56,56,44,52,57,48,54,48,49,64,58,58,58,60,50,58,66,43,40,69,60,64,59,44,42,43,57,55,61,65,40,71,59,61,58,51,50,65,53,41,65,44,44,60,54,50,41,54,51,51,46,58,54,54,60,60,54,59,46,65,67,62,65,44,65,60,51,48,58,45,53,39,68,52,44,47,53,53,51,66,62,62,44,63,52,59,60,52,48,45,34,57,71,49,54,59,57,61,39,61,56,52,43,62,41,58,35,63,65,48,63,51,55,65,45,56,54,44,62,54,51,29,51,43,55,70,62,35,51,59,59,52,64,58,47,57,41,45,60,52,42,67,55,64,70,51,58,60,68,46,77,54,58,48,57,52,54,35,45,70,53,59,62,64,57,52,56,43,53,48,56,42,59,60,63,42,66,54,69,50,51,43,62,68,67,69,45,50,59,50,64,57,64,43,45,58,50,55,62,37,38,41,66,52,56,46,46,64,59,41,54,39,53,63,34,47,67,54,66,52,55,49,74,54,54,56,46,49,42,41,41,49,61,60,67,58,47,52,62,57,58,64,51,43,42,67,76,70,57,44,58,60,44,61,42,52,59,40,42,61,66,46,71,59,64,66,39,57,58,57,47,55,35,61,58,58,58,56,56,67,55,44,63,63,41,59,57,45,68,57,57,38],\"xaxis\":\"x\",\"yaxis\":\"y\",\"type\":\"histogram\"}],                        {\"template\":{\"data\":{\"histogram2dcontour\":[{\"type\":\"histogram2dcontour\",\"colorbar\":{\"outlinewidth\":0,\"ticks\":\"\"},\"colorscale\":[[0.0,\"#0d0887\"],[0.1111111111111111,\"#46039f\"],[0.2222222222222222,\"#7201a8\"],[0.3333333333333333,\"#9c179e\"],[0.4444444444444444,\"#bd3786\"],[0.5555555555555556,\"#d8576b\"],[0.6666666666666666,\"#ed7953\"],[0.7777777777777778,\"#fb9f3a\"],[0.8888888888888888,\"#fdca26\"],[1.0,\"#f0f921\"]]}],\"choropleth\":[{\"type\":\"choropleth\",\"colorbar\":{\"outlinewidth\":0,\"ticks\":\"\"}}],\"histogram2d\":[{\"type\":\"histogram2d\",\"colorbar\":{\"outlinewidth\":0,\"ticks\":\"\"},\"colorscale\":[[0.0,\"#0d0887\"],[0.1111111111111111,\"#46039f\"],[0.2222222222222222,\"#7201a8\"],[0.3333333333333333,\"#9c179e\"],[0.4444444444444444,\"#bd3786\"],[0.5555555555555556,\"#d8576b\"],[0.6666666666666666,\"#ed7953\"],[0.7777777777777778,\"#fb9f3a\"],[0.8888888888888888,\"#fdca26\"],[1.0,\"#f0f921\"]]}],\"heatmap\":[{\"type\":\"heatmap\",\"colorbar\":{\"outlinewidth\":0,\"ticks\":\"\"},\"colorscale\":[[0.0,\"#0d0887\"],[0.1111111111111111,\"#46039f\"],[0.2222222222222222,\"#7201a8\"],[0.3333333333333333,\"#9c179e\"],[0.4444444444444444,\"#bd3786\"],[0.5555555555555556,\"#d8576b\"],[0.6666666666666666,\"#ed7953\"],[0.7777777777777778,\"#fb9f3a\"],[0.8888888888888888,\"#fdca26\"],[1.0,\"#f0f921\"]]}],\"heatmapgl\":[{\"type\":\"heatmapgl\",\"colorbar\":{\"outlinewidth\":0,\"ticks\":\"\"},\"colorscale\":[[0.0,\"#0d0887\"],[0.1111111111111111,\"#46039f\"],[0.2222222222222222,\"#7201a8\"],[0.3333333333333333,\"#9c179e\"],[0.4444444444444444,\"#bd3786\"],[0.5555555555555556,\"#d8576b\"],[0.6666666666666666,\"#ed7953\"],[0.7777777777777778,\"#fb9f3a\"],[0.8888888888888888,\"#fdca26\"],[1.0,\"#f0f921\"]]}],\"contourcarpet\":[{\"type\":\"contourcarpet\",\"colorbar\":{\"outlinewidth\":0,\"ticks\":\"\"}}],\"contour\":[{\"type\":\"contour\",\"colorbar\":{\"outlinewidth\":0,\"ticks\":\"\"},\"colorscale\":[[0.0,\"#0d0887\"],[0.1111111111111111,\"#46039f\"],[0.2222222222222222,\"#7201a8\"],[0.3333333333333333,\"#9c179e\"],[0.4444444444444444,\"#bd3786\"],[0.5555555555555556,\"#d8576b\"],[0.6666666666666666,\"#ed7953\"],[0.7777777777777778,\"#fb9f3a\"],[0.8888888888888888,\"#fdca26\"],[1.0,\"#f0f921\"]]}],\"surface\":[{\"type\":\"surface\",\"colorbar\":{\"outlinewidth\":0,\"ticks\":\"\"},\"colorscale\":[[0.0,\"#0d0887\"],[0.1111111111111111,\"#46039f\"],[0.2222222222222222,\"#7201a8\"],[0.3333333333333333,\"#9c179e\"],[0.4444444444444444,\"#bd3786\"],[0.5555555555555556,\"#d8576b\"],[0.6666666666666666,\"#ed7953\"],[0.7777777777777778,\"#fb9f3a\"],[0.8888888888888888,\"#fdca26\"],[1.0,\"#f0f921\"]]}],\"mesh3d\":[{\"type\":\"mesh3d\",\"colorbar\":{\"outlinewidth\":0,\"ticks\":\"\"}}],\"scatter\":[{\"fillpattern\":{\"fillmode\":\"overlay\",\"size\":10,\"solidity\":0.2},\"type\":\"scatter\"}],\"parcoords\":[{\"type\":\"parcoords\",\"line\":{\"colorbar\":{\"outlinewidth\":0,\"ticks\":\"\"}}}],\"scatterpolargl\":[{\"type\":\"scatterpolargl\",\"marker\":{\"colorbar\":{\"outlinewidth\":0,\"ticks\":\"\"}}}],\"bar\":[{\"error_x\":{\"color\":\"#2a3f5f\"},\"error_y\":{\"color\":\"#2a3f5f\"},\"marker\":{\"line\":{\"color\":\"#E5ECF6\",\"width\":0.5},\"pattern\":{\"fillmode\":\"overlay\",\"size\":10,\"solidity\":0.2}},\"type\":\"bar\"}],\"scattergeo\":[{\"type\":\"scattergeo\",\"marker\":{\"colorbar\":{\"outlinewidth\":0,\"ticks\":\"\"}}}],\"scatterpolar\":[{\"type\":\"scatterpolar\",\"marker\":{\"colorbar\":{\"outlinewidth\":0,\"ticks\":\"\"}}}],\"histogram\":[{\"marker\":{\"pattern\":{\"fillmode\":\"overlay\",\"size\":10,\"solidity\":0.2}},\"type\":\"histogram\"}],\"scattergl\":[{\"type\":\"scattergl\",\"marker\":{\"colorbar\":{\"outlinewidth\":0,\"ticks\":\"\"}}}],\"scatter3d\":[{\"type\":\"scatter3d\",\"line\":{\"colorbar\":{\"outlinewidth\":0,\"ticks\":\"\"}},\"marker\":{\"colorbar\":{\"outlinewidth\":0,\"ticks\":\"\"}}}],\"scattermapbox\":[{\"type\":\"scattermapbox\",\"marker\":{\"colorbar\":{\"outlinewidth\":0,\"ticks\":\"\"}}}],\"scatterternary\":[{\"type\":\"scatterternary\",\"marker\":{\"colorbar\":{\"outlinewidth\":0,\"ticks\":\"\"}}}],\"scattercarpet\":[{\"type\":\"scattercarpet\",\"marker\":{\"colorbar\":{\"outlinewidth\":0,\"ticks\":\"\"}}}],\"carpet\":[{\"aaxis\":{\"endlinecolor\":\"#2a3f5f\",\"gridcolor\":\"white\",\"linecolor\":\"white\",\"minorgridcolor\":\"white\",\"startlinecolor\":\"#2a3f5f\"},\"baxis\":{\"endlinecolor\":\"#2a3f5f\",\"gridcolor\":\"white\",\"linecolor\":\"white\",\"minorgridcolor\":\"white\",\"startlinecolor\":\"#2a3f5f\"},\"type\":\"carpet\"}],\"table\":[{\"cells\":{\"fill\":{\"color\":\"#EBF0F8\"},\"line\":{\"color\":\"white\"}},\"header\":{\"fill\":{\"color\":\"#C8D4E3\"},\"line\":{\"color\":\"white\"}},\"type\":\"table\"}],\"barpolar\":[{\"marker\":{\"line\":{\"color\":\"#E5ECF6\",\"width\":0.5},\"pattern\":{\"fillmode\":\"overlay\",\"size\":10,\"solidity\":0.2}},\"type\":\"barpolar\"}],\"pie\":[{\"automargin\":true,\"type\":\"pie\"}]},\"layout\":{\"autotypenumbers\":\"strict\",\"colorway\":[\"#636efa\",\"#EF553B\",\"#00cc96\",\"#ab63fa\",\"#FFA15A\",\"#19d3f3\",\"#FF6692\",\"#B6E880\",\"#FF97FF\",\"#FECB52\"],\"font\":{\"color\":\"#2a3f5f\"},\"hovermode\":\"closest\",\"hoverlabel\":{\"align\":\"left\"},\"paper_bgcolor\":\"white\",\"plot_bgcolor\":\"#E5ECF6\",\"polar\":{\"bgcolor\":\"#E5ECF6\",\"angularaxis\":{\"gridcolor\":\"white\",\"linecolor\":\"white\",\"ticks\":\"\"},\"radialaxis\":{\"gridcolor\":\"white\",\"linecolor\":\"white\",\"ticks\":\"\"}},\"ternary\":{\"bgcolor\":\"#E5ECF6\",\"aaxis\":{\"gridcolor\":\"white\",\"linecolor\":\"white\",\"ticks\":\"\"},\"baxis\":{\"gridcolor\":\"white\",\"linecolor\":\"white\",\"ticks\":\"\"},\"caxis\":{\"gridcolor\":\"white\",\"linecolor\":\"white\",\"ticks\":\"\"}},\"coloraxis\":{\"colorbar\":{\"outlinewidth\":0,\"ticks\":\"\"}},\"colorscale\":{\"sequential\":[[0.0,\"#0d0887\"],[0.1111111111111111,\"#46039f\"],[0.2222222222222222,\"#7201a8\"],[0.3333333333333333,\"#9c179e\"],[0.4444444444444444,\"#bd3786\"],[0.5555555555555556,\"#d8576b\"],[0.6666666666666666,\"#ed7953\"],[0.7777777777777778,\"#fb9f3a\"],[0.8888888888888888,\"#fdca26\"],[1.0,\"#f0f921\"]],\"sequentialminus\":[[0.0,\"#0d0887\"],[0.1111111111111111,\"#46039f\"],[0.2222222222222222,\"#7201a8\"],[0.3333333333333333,\"#9c179e\"],[0.4444444444444444,\"#bd3786\"],[0.5555555555555556,\"#d8576b\"],[0.6666666666666666,\"#ed7953\"],[0.7777777777777778,\"#fb9f3a\"],[0.8888888888888888,\"#fdca26\"],[1.0,\"#f0f921\"]],\"diverging\":[[0,\"#8e0152\"],[0.1,\"#c51b7d\"],[0.2,\"#de77ae\"],[0.3,\"#f1b6da\"],[0.4,\"#fde0ef\"],[0.5,\"#f7f7f7\"],[0.6,\"#e6f5d0\"],[0.7,\"#b8e186\"],[0.8,\"#7fbc41\"],[0.9,\"#4d9221\"],[1,\"#276419\"]]},\"xaxis\":{\"gridcolor\":\"white\",\"linecolor\":\"white\",\"ticks\":\"\",\"title\":{\"standoff\":15},\"zerolinecolor\":\"white\",\"automargin\":true,\"zerolinewidth\":2},\"yaxis\":{\"gridcolor\":\"white\",\"linecolor\":\"white\",\"ticks\":\"\",\"title\":{\"standoff\":15},\"zerolinecolor\":\"white\",\"automargin\":true,\"zerolinewidth\":2},\"scene\":{\"xaxis\":{\"backgroundcolor\":\"#E5ECF6\",\"gridcolor\":\"white\",\"linecolor\":\"white\",\"showbackground\":true,\"ticks\":\"\",\"zerolinecolor\":\"white\",\"gridwidth\":2},\"yaxis\":{\"backgroundcolor\":\"#E5ECF6\",\"gridcolor\":\"white\",\"linecolor\":\"white\",\"showbackground\":true,\"ticks\":\"\",\"zerolinecolor\":\"white\",\"gridwidth\":2},\"zaxis\":{\"backgroundcolor\":\"#E5ECF6\",\"gridcolor\":\"white\",\"linecolor\":\"white\",\"showbackground\":true,\"ticks\":\"\",\"zerolinecolor\":\"white\",\"gridwidth\":2}},\"shapedefaults\":{\"line\":{\"color\":\"#2a3f5f\"}},\"annotationdefaults\":{\"arrowcolor\":\"#2a3f5f\",\"arrowhead\":0,\"arrowwidth\":1},\"geo\":{\"bgcolor\":\"white\",\"landcolor\":\"#E5ECF6\",\"subunitcolor\":\"white\",\"showland\":true,\"showlakes\":true,\"lakecolor\":\"white\"},\"title\":{\"x\":0.05},\"mapbox\":{\"style\":\"light\"}}},\"xaxis\":{\"anchor\":\"y\",\"domain\":[0.0,1.0],\"title\":{\"text\":\"age\"}},\"yaxis\":{\"anchor\":\"x\",\"domain\":[0.0,1.0],\"title\":{\"text\":\"count\"}},\"legend\":{\"tracegroupgap\":0},\"title\":{\"text\":\"age vs heartproblem stage\"},\"barmode\":\"relative\"},                        {\"responsive\": true}                    ).then(function(){\n",
       "                            \n",
       "var gd = document.getElementById('9814a467-5ff2-4ca7-b490-a7c593457e3e');\n",
       "var x = new MutationObserver(function (mutations, observer) {{\n",
       "        var display = window.getComputedStyle(gd).display;\n",
       "        if (!display || display === 'none') {{\n",
       "            console.log([gd, 'removed!']);\n",
       "            Plotly.purge(gd);\n",
       "            observer.disconnect();\n",
       "        }}\n",
       "}});\n",
       "\n",
       "// Listen for the removal of the full notebook cells\n",
       "var notebookContainer = gd.closest('#notebook-container');\n",
       "if (notebookContainer) {{\n",
       "    x.observe(notebookContainer, {childList: true});\n",
       "}}\n",
       "\n",
       "// Listen for the clearing of the current output cell\n",
       "var outputEl = gd.closest('.output');\n",
       "if (outputEl) {{\n",
       "    x.observe(outputEl, {childList: true});\n",
       "}}\n",
       "\n",
       "                        })                };                });            </script>        </div>"
      ]
     },
     "metadata": {},
     "output_type": "display_data"
    }
   ],
   "source": [
    "\n",
    "px.histogram(df, x='age', nbins=50,title=\"age vs heartproblem stage\")"
   ]
  },
  {
   "cell_type": "code",
   "execution_count": 91,
   "id": "2bbaadeb",
   "metadata": {},
   "outputs": [
    {
     "data": {
      "text/plain": [
       "<Axes: >"
      ]
     },
     "execution_count": 91,
     "metadata": {},
     "output_type": "execute_result"
    },
    {
     "data": {
      "image/png": "[encoded data removed]",
      "text/plain": [
       "<Figure size 640x480 with 1 Axes>"
      ]
     },
     "metadata": {},
     "output_type": "display_data"
    }
   ],
   "source": [
    "df['age'].hist()"
   ]
  },
  {
   "cell_type": "code",
   "execution_count": 107,
   "id": "b9a07848",
   "metadata": {},
   "outputs": [],
   "source": [
    "#changes the \" ? \" to null values\n",
    "df['ca']=df['ca'].replace('','?',inplace=True)"
   ]
  },
  {
   "cell_type": "code",
   "execution_count": 108,
   "id": "78d6e9b5",
   "metadata": {},
   "outputs": [
    {
     "data": {
      "text/plain": [
       "0      True\n",
       "1      True\n",
       "2      True\n",
       "3      True\n",
       "4      True\n",
       "       ... \n",
       "298    True\n",
       "299    True\n",
       "300    True\n",
       "301    True\n",
       "302    True\n",
       "Name: ca, Length: 303, dtype: bool"
      ]
     },
     "execution_count": 108,
     "metadata": {},
     "output_type": "execute_result"
    }
   ],
   "source": [
    "df['ca'].isnull()"
   ]
  },
  {
   "cell_type": "code",
   "execution_count": 110,
   "id": "fb125b7a",
   "metadata": {},
   "outputs": [
    {
     "name": "stdout",
     "output_type": "stream",
     "text": [
      "[63 67 37 41 56 62 57 53 44 52 48 54 49 64 58 60 50 66 43 40 69 59 42 55\n",
      " 61 65 71 51 46 45 39 68 47 34 35 29 70 77 38 74 76]\n",
      "[1 0]\n",
      "[1 4 3 2]\n",
      "[145 160 120 130 140 172 150 110 132 117 135 112 105 124 125 142 128 170\n",
      " 155 104 180 138 108 134 122 115 118 100 200  94 165 102 152 101 126 174\n",
      " 148 178 158 192 129 144 123 136 146 106 156 154 114 164]\n",
      "[233 286 229 250 204 236 268 354 254 203 192 294 256 263 199 168 239 275\n",
      " 266 211 283 284 224 206 219 340 226 247 167 230 335 234 177 276 353 243\n",
      " 225 302 212 330 175 417 197 198 290 253 172 273 213 305 216 304 188 282\n",
      " 185 232 326 231 269 267 248 360 258 308 245 270 208 264 321 274 325 235\n",
      " 257 164 141 252 255 201 222 260 182 303 265 309 307 249 186 341 183 407\n",
      " 217 288 220 209 227 261 174 281 221 205 240 289 318 298 564 246 322 299\n",
      " 300 293 277 214 207 223 160 394 184 315 409 244 195 196 126 313 259 200\n",
      " 262 215 228 193 271 210 327 149 295 306 178 237 218 242 319 166 180 311\n",
      " 278 342 169 187 157 176 241 131]\n",
      "[1 0]\n",
      "[2 0 1]\n",
      "[150 108 129 187 172 178 160 163 147 155 148 153 142 173 162 174 168 139\n",
      " 171 144 132 158 114 151 161 179 120 112 137 157 169 165 123 128 152 140\n",
      " 188 109 125 131 170 113  99 177 141 180 111 143 182 156 115 149 145 146\n",
      " 175 186 185 159 130 190 136  97 127 154 133 126 202 103 166 164 184 124\n",
      " 122  96 138  88 105 194 195 106 167  95 192 117 121 116  71 118 181 134\n",
      "  90]\n",
      "[0 1]\n",
      "[2.3 1.5 2.6 3.5 1.4 0.8 3.6 0.6 3.1 0.4 1.3 0.  0.5 1.6 1.  1.2 0.2 1.8\n",
      " 3.2 2.4 2.  2.5 2.2 2.8 3.  3.4 6.2 4.  5.6 2.9 0.1 2.1 1.9 4.2 0.9 1.1\n",
      " 3.8 0.7 0.3 4.4]\n",
      "[3 2 1]\n",
      "[None]\n",
      "['6' '3' '7' '?']\n",
      "[0 2 1 3 4]\n"
     ]
    }
   ],
   "source": [
    "#here we can see all the unique values in all the columns\n",
    "for c in df.columns:\n",
    "    unique_values=df[c].unique()\n",
    "    print(unique_values)"
   ]
  },
  {
   "cell_type": "code",
   "execution_count": 114,
   "id": "00f31832",
   "metadata": {},
   "outputs": [],
   "source": [
    "#repalcing '?' with nan\n",
    "df=df.replace('?',np.nan)"
   ]
  },
  {
   "cell_type": "code",
   "execution_count": 112,
   "id": "b357069d",
   "metadata": {},
   "outputs": [
    {
     "name": "stdout",
     "output_type": "stream",
     "text": [
      "[63 67 37 41 56 62 57 53 44 52 48 54 49 64 58 60 50 66 43 40 69 59 42 55\n",
      " 61 65 71 51 46 45 39 68 47 34 35 29 70 77 38 74 76]\n",
      "[1 0]\n",
      "[1 4 3 2]\n",
      "[145 160 120 130 140 172 150 110 132 117 135 112 105 124 125 142 128 170\n",
      " 155 104 180 138 108 134 122 115 118 100 200  94 165 102 152 101 126 174\n",
      " 148 178 158 192 129 144 123 136 146 106 156 154 114 164]\n",
      "[233 286 229 250 204 236 268 354 254 203 192 294 256 263 199 168 239 275\n",
      " 266 211 283 284 224 206 219 340 226 247 167 230 335 234 177 276 353 243\n",
      " 225 302 212 330 175 417 197 198 290 253 172 273 213 305 216 304 188 282\n",
      " 185 232 326 231 269 267 248 360 258 308 245 270 208 264 321 274 325 235\n",
      " 257 164 141 252 255 201 222 260 182 303 265 309 307 249 186 341 183 407\n",
      " 217 288 220 209 227 261 174 281 221 205 240 289 318 298 564 246 322 299\n",
      " 300 293 277 214 207 223 160 394 184 315 409 244 195 196 126 313 259 200\n",
      " 262 215 228 193 271 210 327 149 295 306 178 237 218 242 319 166 180 311\n",
      " 278 342 169 187 157 176 241 131]\n",
      "[1 0]\n",
      "[2 0 1]\n",
      "[150 108 129 187 172 178 160 163 147 155 148 153 142 173 162 174 168 139\n",
      " 171 144 132 158 114 151 161 179 120 112 137 157 169 165 123 128 152 140\n",
      " 188 109 125 131 170 113  99 177 141 180 111 143 182 156 115 149 145 146\n",
      " 175 186 185 159 130 190 136  97 127 154 133 126 202 103 166 164 184 124\n",
      " 122  96 138  88 105 194 195 106 167  95 192 117 121 116  71 118 181 134\n",
      "  90]\n",
      "[0 1]\n",
      "[2.3 1.5 2.6 3.5 1.4 0.8 3.6 0.6 3.1 0.4 1.3 0.  0.5 1.6 1.  1.2 0.2 1.8\n",
      " 3.2 2.4 2.  2.5 2.2 2.8 3.  3.4 6.2 4.  5.6 2.9 0.1 2.1 1.9 4.2 0.9 1.1\n",
      " 3.8 0.7 0.3 4.4]\n",
      "[3 2 1]\n",
      "[None]\n",
      "['6' '3' '7' nan]\n",
      "[0 2 1 3 4]\n"
     ]
    }
   ],
   "source": [
    "for c in df.columns:\n",
    "    unique_values=df[c].unique()\n",
    "    print(unique_values)"
   ]
  },
  {
   "cell_type": "code",
   "execution_count": 119,
   "id": "f3924612",
   "metadata": {},
   "outputs": [
    {
     "data": {
      "text/plain": [
       "age           int64\n",
       "gender        int64\n",
       "cp            int64\n",
       "trestbps      int64\n",
       "chol          int64\n",
       "fps           int64\n",
       "restecg       int64\n",
       "thalach       int64\n",
       "exang         int64\n",
       "oldpeak     float64\n",
       "slope         int64\n",
       "ca           object\n",
       "thal         object\n",
       "class         int64\n",
       "dtype: object"
      ]
     },
     "execution_count": 119,
     "metadata": {},
     "output_type": "execute_result"
    }
   ],
   "source": [
    "df.dtypes"
   ]
  },
  {
   "cell_type": "code",
   "execution_count": 132,
   "id": "fb07fe2c",
   "metadata": {},
   "outputs": [
    {
     "data": {
      "text/plain": [
       "nan"
      ]
     },
     "execution_count": 132,
     "metadata": {},
     "output_type": "execute_result"
    }
   ],
   "source": [
    "df['ca']=df['ca'].astype(float)\n",
    "df['ca'].mean()"
   ]
  },
  {
   "cell_type": "code",
   "execution_count": 124,
   "id": "d4006288",
   "metadata": {},
   "outputs": [
    {
     "data": {
      "text/plain": [
       "age           int64\n",
       "gender        int64\n",
       "cp            int64\n",
       "trestbps      int64\n",
       "chol          int64\n",
       "fps           int64\n",
       "restecg       int64\n",
       "thalach       int64\n",
       "exang         int64\n",
       "oldpeak     float64\n",
       "slope         int64\n",
       "ca          float64\n",
       "thal         object\n",
       "class         int64\n",
       "dtype: object"
      ]
     },
     "execution_count": 124,
     "metadata": {},
     "output_type": "execute_result"
    }
   ],
   "source": [
    "df.dtypes"
   ]
  },
  {
   "cell_type": "code",
   "execution_count": 146,
   "id": "030703ea",
   "metadata": {},
   "outputs": [
    {
     "data": {
      "text/html": [
       "<div>\n",
       "<style scoped>\n",
       "    .dataframe tbody tr th:only-of-type {\n",
       "        vertical-align: middle;\n",
       "    }\n",
       "\n",
       "    .dataframe tbody tr th {\n",
       "        vertical-align: top;\n",
       "    }\n",
       "\n",
       "    .dataframe thead th {\n",
       "        text-align: right;\n",
       "    }\n",
       "</style>\n",
       "<table border=\"1\" class=\"dataframe\">\n",
       "  <thead>\n",
       "    <tr style=\"text-align: right;\">\n",
       "      <th></th>\n",
       "      <th>age</th>\n",
       "      <th>gender</th>\n",
       "      <th>cp</th>\n",
       "      <th>trestbps</th>\n",
       "      <th>chol</th>\n",
       "      <th>fps</th>\n",
       "      <th>restecg</th>\n",
       "      <th>thalach</th>\n",
       "      <th>exang</th>\n",
       "      <th>oldpeak</th>\n",
       "      <th>slope</th>\n",
       "      <th>ca</th>\n",
       "      <th>thal</th>\n",
       "      <th>class</th>\n",
       "    </tr>\n",
       "  </thead>\n",
       "  <tbody>\n",
       "    <tr>\n",
       "      <th>0</th>\n",
       "      <td>63</td>\n",
       "      <td>1</td>\n",
       "      <td>1</td>\n",
       "      <td>145</td>\n",
       "      <td>233</td>\n",
       "      <td>1</td>\n",
       "      <td>2</td>\n",
       "      <td>150</td>\n",
       "      <td>0</td>\n",
       "      <td>2.3</td>\n",
       "      <td>3</td>\n",
       "      <td>10.0</td>\n",
       "      <td>6</td>\n",
       "      <td>0</td>\n",
       "    </tr>\n",
       "    <tr>\n",
       "      <th>1</th>\n",
       "      <td>67</td>\n",
       "      <td>1</td>\n",
       "      <td>4</td>\n",
       "      <td>160</td>\n",
       "      <td>286</td>\n",
       "      <td>0</td>\n",
       "      <td>2</td>\n",
       "      <td>108</td>\n",
       "      <td>1</td>\n",
       "      <td>1.5</td>\n",
       "      <td>2</td>\n",
       "      <td>10.0</td>\n",
       "      <td>3</td>\n",
       "      <td>2</td>\n",
       "    </tr>\n",
       "    <tr>\n",
       "      <th>2</th>\n",
       "      <td>67</td>\n",
       "      <td>1</td>\n",
       "      <td>4</td>\n",
       "      <td>120</td>\n",
       "      <td>229</td>\n",
       "      <td>0</td>\n",
       "      <td>2</td>\n",
       "      <td>129</td>\n",
       "      <td>1</td>\n",
       "      <td>2.6</td>\n",
       "      <td>2</td>\n",
       "      <td>10.0</td>\n",
       "      <td>7</td>\n",
       "      <td>1</td>\n",
       "    </tr>\n",
       "    <tr>\n",
       "      <th>3</th>\n",
       "      <td>37</td>\n",
       "      <td>1</td>\n",
       "      <td>3</td>\n",
       "      <td>130</td>\n",
       "      <td>250</td>\n",
       "      <td>0</td>\n",
       "      <td>0</td>\n",
       "      <td>187</td>\n",
       "      <td>0</td>\n",
       "      <td>3.5</td>\n",
       "      <td>3</td>\n",
       "      <td>10.0</td>\n",
       "      <td>3</td>\n",
       "      <td>0</td>\n",
       "    </tr>\n",
       "    <tr>\n",
       "      <th>4</th>\n",
       "      <td>41</td>\n",
       "      <td>0</td>\n",
       "      <td>2</td>\n",
       "      <td>130</td>\n",
       "      <td>204</td>\n",
       "      <td>0</td>\n",
       "      <td>2</td>\n",
       "      <td>172</td>\n",
       "      <td>0</td>\n",
       "      <td>1.4</td>\n",
       "      <td>1</td>\n",
       "      <td>10.0</td>\n",
       "      <td>3</td>\n",
       "      <td>0</td>\n",
       "    </tr>\n",
       "    <tr>\n",
       "      <th>...</th>\n",
       "      <td>...</td>\n",
       "      <td>...</td>\n",
       "      <td>...</td>\n",
       "      <td>...</td>\n",
       "      <td>...</td>\n",
       "      <td>...</td>\n",
       "      <td>...</td>\n",
       "      <td>...</td>\n",
       "      <td>...</td>\n",
       "      <td>...</td>\n",
       "      <td>...</td>\n",
       "      <td>...</td>\n",
       "      <td>...</td>\n",
       "      <td>...</td>\n",
       "    </tr>\n",
       "    <tr>\n",
       "      <th>298</th>\n",
       "      <td>45</td>\n",
       "      <td>1</td>\n",
       "      <td>1</td>\n",
       "      <td>110</td>\n",
       "      <td>264</td>\n",
       "      <td>0</td>\n",
       "      <td>0</td>\n",
       "      <td>132</td>\n",
       "      <td>0</td>\n",
       "      <td>1.2</td>\n",
       "      <td>2</td>\n",
       "      <td>10.0</td>\n",
       "      <td>7</td>\n",
       "      <td>1</td>\n",
       "    </tr>\n",
       "    <tr>\n",
       "      <th>299</th>\n",
       "      <td>68</td>\n",
       "      <td>1</td>\n",
       "      <td>4</td>\n",
       "      <td>144</td>\n",
       "      <td>193</td>\n",
       "      <td>1</td>\n",
       "      <td>0</td>\n",
       "      <td>141</td>\n",
       "      <td>0</td>\n",
       "      <td>3.4</td>\n",
       "      <td>2</td>\n",
       "      <td>10.0</td>\n",
       "      <td>7</td>\n",
       "      <td>2</td>\n",
       "    </tr>\n",
       "    <tr>\n",
       "      <th>300</th>\n",
       "      <td>57</td>\n",
       "      <td>1</td>\n",
       "      <td>4</td>\n",
       "      <td>130</td>\n",
       "      <td>131</td>\n",
       "      <td>0</td>\n",
       "      <td>0</td>\n",
       "      <td>115</td>\n",
       "      <td>1</td>\n",
       "      <td>1.2</td>\n",
       "      <td>2</td>\n",
       "      <td>10.0</td>\n",
       "      <td>7</td>\n",
       "      <td>3</td>\n",
       "    </tr>\n",
       "    <tr>\n",
       "      <th>301</th>\n",
       "      <td>57</td>\n",
       "      <td>0</td>\n",
       "      <td>2</td>\n",
       "      <td>130</td>\n",
       "      <td>236</td>\n",
       "      <td>0</td>\n",
       "      <td>2</td>\n",
       "      <td>174</td>\n",
       "      <td>0</td>\n",
       "      <td>0.0</td>\n",
       "      <td>2</td>\n",
       "      <td>10.0</td>\n",
       "      <td>3</td>\n",
       "      <td>1</td>\n",
       "    </tr>\n",
       "    <tr>\n",
       "      <th>302</th>\n",
       "      <td>38</td>\n",
       "      <td>1</td>\n",
       "      <td>3</td>\n",
       "      <td>138</td>\n",
       "      <td>175</td>\n",
       "      <td>0</td>\n",
       "      <td>0</td>\n",
       "      <td>173</td>\n",
       "      <td>0</td>\n",
       "      <td>0.0</td>\n",
       "      <td>1</td>\n",
       "      <td>10.0</td>\n",
       "      <td>3</td>\n",
       "      <td>0</td>\n",
       "    </tr>\n",
       "  </tbody>\n",
       "</table>\n",
       "<p>303 rows × 14 columns</p>\n",
       "</div>"
      ],
      "text/plain": [
       "     age  gender  cp  trestbps  chol  fps  restecg  thalach  exang  oldpeak  \\\n",
       "0     63       1   1       145   233    1        2      150      0      2.3   \n",
       "1     67       1   4       160   286    0        2      108      1      1.5   \n",
       "2     67       1   4       120   229    0        2      129      1      2.6   \n",
       "3     37       1   3       130   250    0        0      187      0      3.5   \n",
       "4     41       0   2       130   204    0        2      172      0      1.4   \n",
       "..   ...     ...  ..       ...   ...  ...      ...      ...    ...      ...   \n",
       "298   45       1   1       110   264    0        0      132      0      1.2   \n",
       "299   68       1   4       144   193    1        0      141      0      3.4   \n",
       "300   57       1   4       130   131    0        0      115      1      1.2   \n",
       "301   57       0   2       130   236    0        2      174      0      0.0   \n",
       "302   38       1   3       138   175    0        0      173      0      0.0   \n",
       "\n",
       "     slope    ca thal  class  \n",
       "0        3  10.0    6      0  \n",
       "1        2  10.0    3      2  \n",
       "2        2  10.0    7      1  \n",
       "3        3  10.0    3      0  \n",
       "4        1  10.0    3      0  \n",
       "..     ...   ...  ...    ...  \n",
       "298      2  10.0    7      1  \n",
       "299      2  10.0    7      2  \n",
       "300      2  10.0    7      3  \n",
       "301      2  10.0    3      1  \n",
       "302      1  10.0    3      0  \n",
       "\n",
       "[303 rows x 14 columns]"
      ]
     },
     "execution_count": 146,
     "metadata": {},
     "output_type": "execute_result"
    }
   ],
   "source": [
    "\n",
    "df['ca'] = pd.to_numeric(df['ca'], errors='coerce')  # Non-numeric values become NaN\n",
    "df['ca'] = df['ca'].fillna(df['ca'].mean())  #  fill NaN values with the column mean\n",
    "\n",
    "df"
   ]
  },
  {
   "cell_type": "code",
   "execution_count": 148,
   "id": "7e00048b",
   "metadata": {},
   "outputs": [
    {
     "name": "stdout",
     "output_type": "stream",
     "text": [
      "Requirement already satisfied: matplotlib in c:\\users\\cvr\\anaconda3\\lib\\site-packages (3.7.2)\n",
      "Requirement already satisfied: contourpy>=1.0.1 in c:\\users\\cvr\\anaconda3\\lib\\site-packages (from matplotlib) (1.0.5)\n",
      "Requirement already satisfied: cycler>=0.10 in c:\\users\\cvr\\anaconda3\\lib\\site-packages (from matplotlib) (0.11.0)\n",
      "Requirement already satisfied: fonttools>=4.22.0 in c:\\users\\cvr\\anaconda3\\lib\\site-packages (from matplotlib) (4.25.0)\n",
      "Requirement already satisfied: kiwisolver>=1.0.1 in c:\\users\\cvr\\anaconda3\\lib\\site-packages (from matplotlib) (1.4.4)\n",
      "Requirement already satisfied: numpy>=1.20 in c:\\users\\cvr\\anaconda3\\lib\\site-packages (from matplotlib) (1.24.3)\n",
      "Requirement already satisfied: packaging>=20.0 in c:\\users\\cvr\\anaconda3\\lib\\site-packages (from matplotlib) (23.1)\n",
      "Requirement already satisfied: pillow>=6.2.0 in c:\\users\\cvr\\anaconda3\\lib\\site-packages (from matplotlib) (9.4.0)\n",
      "Requirement already satisfied: pyparsing<3.1,>=2.3.1 in c:\\users\\cvr\\anaconda3\\lib\\site-packages (from matplotlib) (3.0.9)\n",
      "Requirement already satisfied: python-dateutil>=2.7 in c:\\users\\cvr\\anaconda3\\lib\\site-packages (from matplotlib) (2.8.2)\n",
      "Requirement already satisfied: six>=1.5 in c:\\users\\cvr\\anaconda3\\lib\\site-packages (from python-dateutil>=2.7->matplotlib) (1.16.0)\n",
      "Note: you may need to restart the kernel to use updated packages.\n"
     ]
    }
   ],
   "source": [
    "#matplotlib #matplotlib #matplotlib #matplotlib #matplotlib #matplotlib #matplotlib\n",
    "pip install matplotlib"
   ]
  },
  {
   "cell_type": "code",
   "execution_count": 155,
   "id": "46bf64d3",
   "metadata": {},
   "outputs": [
    {
     "data": {
      "text/plain": [
       "<Figure size 640x480 with 0 Axes>"
      ]
     },
     "metadata": {},
     "output_type": "display_data"
    }
   ],
   "source": [
    "import matplotlib.pyplot as plt\n",
    "fig = plt.figure()  \n"
   ]
  },
  {
   "cell_type": "code",
   "execution_count": 156,
   "id": "e960063c",
   "metadata": {},
   "outputs": [
    {
     "data": {
      "image/png": "[encoded data removed]",
      "text/plain": [
       "<Figure size 640x480 with 1 Axes>"
      ]
     },
     "metadata": {},
     "output_type": "display_data"
    }
   ],
   "source": [
    "fig,ax=plt.subplots()"
   ]
  },
  {
   "cell_type": "code",
   "execution_count": 168,
   "id": "6af8667f",
   "metadata": {},
   "outputs": [
    {
     "data": {
      "text/plain": [
       "Text(0, 0.5, 'yaxis')"
      ]
     },
     "execution_count": 168,
     "metadata": {},
     "output_type": "execute_result"
    },
    {
     "data": {
      "image/png": "[encoded data removed]",
      "text/plain": [
       "<Figure size 640x480 with 1 Axes>"
      ]
     },
     "metadata": {},
     "output_type": "display_data"
    }
   ],
   "source": [
    "#Data\n",
    "fig,ax=plt.subplots()\n",
    "ax.plot([1,2,3,4],[1,2,3,4])\n",
    "plt.title(\"Simple Linear Plot\")\n",
    "plt.xlabel(\"x-axis\")\n",
    "plt.ylabel(\"yaxis\")\n"
   ]
  },
  {
   "cell_type": "code",
   "execution_count": 165,
   "id": "36a7530d",
   "metadata": {},
   "outputs": [
    {
     "data": {
      "text/plain": [
       "<function matplotlib.pyplot.show(close=None, block=None)>"
      ]
     },
     "execution_count": 165,
     "metadata": {},
     "output_type": "execute_result"
    },
    {
     "data": {
      "image/png": "[encoded data removed]",
      "text/plain": [
       "<Figure size 640x480 with 1 Axes>"
      ]
     },
     "metadata": {},
     "output_type": "display_data"
    }
   ],
   "source": [
    "x=[1,2,3,4,5]\n",
    "y=[2,4,6,8,10]\n",
    "plt.plot(x,y,linestyle='dashed',marker='*',color='red')\n",
    "plt.title('line plot')\n",
    "plt.xlabel(\"x-axis\",color='blue')\n",
    "plt.ylabel(\"yaxis\",color='blue')\n",
    "plt.show\n"
   ]
  },
  {
   "cell_type": "code",
   "execution_count": 179,
   "id": "268ee298",
   "metadata": {},
   "outputs": [
    {
     "data": {
      "text/plain": [
       "[<matplotlib.lines.Line2D at 0x28ac7ec7810>]"
      ]
     },
     "execution_count": 179,
     "metadata": {},
     "output_type": "execute_result"
    },
    {
     "data": {
      "image/png": "[encoded data removed]",
      "text/plain": [
       "<Figure size 640x480 with 1 Axes>"
      ]
     },
     "metadata": {},
     "output_type": "display_data"
    }
   ],
   "source": [
    "x=[1,2,3,4,5,6]\n",
    "y=[60000,30000,40000,50000,60000,40000]\n",
    "plt.xlabel(\"months\")\n",
    "plt.ylabel(\"monthly salary\")\n",
    "plt.title(\"moths vs salary graph\")\n",
    "plt.plot(x,y,marker='*',linestyle='dashed',color='green')"
   ]
  },
  {
   "cell_type": "code",
   "execution_count": 198,
   "id": "fe2074c3",
   "metadata": {},
   "outputs": [
    {
     "data": {
      "text/plain": [
       "Text(0.5, 1.0, 'moths vs salary graph')"
      ]
     },
     "execution_count": 198,
     "metadata": {},
     "output_type": "execute_result"
    },
    {
     "data": {
      "image/png": "[encoded data removed]",
      "text/plain": [
       "<Figure size 640x480 with 1 Axes>"
      ]
     },
     "metadata": {},
     "output_type": "display_data"
    }
   ],
   "source": [
    "plt.bar(x,y,color=['orange','white','green'],linewidth=20)\n",
    "plt.xlabel(\"months\")\n",
    "plt.ylabel(\"monthly salary\")\n",
    "plt.title(\"moths vs salary graph\")"
   ]
  },
  {
   "cell_type": "code",
   "execution_count": 199,
   "id": "3aa073a0",
   "metadata": {},
   "outputs": [
    {
     "data": {
      "image/png": "[encoded data removed]",
      "text/plain": [
       "<Figure size 640x480 with 1 Axes>"
      ]
     },
     "metadata": {},
     "output_type": "display_data"
    }
   ],
   "source": [
    "ages=[20,22,23,25,27,28,29,30,31,35,37,38,39]\n",
    "b=[20,30,40,50,60,70]\n",
    "plt.hist(ages,bins=b,color='skyblue',edgecolor='black')\n",
    "plt.title(\"age dustribution of a customer\")\n",
    "plt.xlabel(\"age ranges\")\n",
    "plt.ylabel(\"frequency\")\n",
    "plt.grid(True)\n",
    "plt.show()"
   ]
  },
  {
   "cell_type": "code",
   "execution_count": 201,
   "id": "6b50b647",
   "metadata": {},
   "outputs": [
    {
     "data": {
      "image/png": "[encoded data removed]",
      "text/plain": [
       "<Figure size 640x480 with 1 Axes>"
      ]
     },
     "metadata": {},
     "output_type": "display_data"
    }
   ],
   "source": [
    "import matplotlib.pyplot as plt\n",
    "x=[\"python\",\"java\",\"c\",\"react\"]\n",
    "y=[90,80,70,60]\n",
    "plt.pie(y,labels=x)\n",
    "plt.title(\"popularity of programming language\")\n",
    "plt.show()"
   ]
  },
  {
   "cell_type": "code",
   "execution_count": null,
   "id": "da832672",
   "metadata": {},
   "outputs": [],
   "source": []
  }
 ],
 "metadata": {
  "kernelspec": {
   "display_name": "Python 3 (ipykernel)",
   "language": "python",
   "name": "python3"
  },
  "language_info": {
   "codemirror_mode": {
    "name": "ipython",
    "version": 3
   },
   "file_extension": ".py",
   "mimetype": "text/x-python",
   "name": "python",
   "nbconvert_exporter": "python",
   "pygments_lexer": "ipython3",
   "version": "3.11.5"
  }
 },
 "nbformat": 4,
 "nbformat_minor": 5
}
